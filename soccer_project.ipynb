{
 "cells": [
  {
   "cell_type": "code",
   "execution_count": null,
   "metadata": {},
   "outputs": [],
   "source": [
    "import pandas as pd\n",
    "import numpy as np\n",
    "import seaborn as sns\n",
    "\n",
    "from statsbombpy import sb\n",
    "from statsbombpy.api_client import NoAuthWarning\n",
    "\n",
    "from warnings import filterwarnings\n",
    "filterwarnings('ignore', category=NoAuthWarning)"
   ]
  },
  {
   "cell_type": "code",
   "execution_count": null,
   "metadata": {},
   "outputs": [],
   "source": [
    "# sb.competitions()"
   ]
  },
  {
   "cell_type": "code",
   "execution_count": null,
   "metadata": {},
   "outputs": [],
   "source": [
    "invincibles_df = sb.matches(competition_id=2, season_id=44)\n",
    "invincibles_df = invincibles_df.sort_values('match_date').reset_index(drop=True)"
   ]
  },
  {
   "cell_type": "code",
   "execution_count": null,
   "metadata": {},
   "outputs": [],
   "source": [
    "# convert list column to two string columns\n",
    "list_to_string = lambda x: ','.join([str(i) for i in x])\n",
    "\n",
    "# yessirrrrrrr\n",
    "def preprocessing_events_df(\n",
    "    events_df,\n",
    "    o_cols=['player', 'location', 'position', 'type', 'pass_end_location', 'shot_outcome', 'dribble_outcome', 'pass_cross', 'shot_statsbomb_xg'],\n",
    "    o_attrs=['Pass', 'Shot', 'Dribble', 'Cross']\n",
    "    ):\n",
    "    '''\n",
    "    Return dataframe that contains offense-related metrics\n",
    "    found in `offensive_cols` and `offensive_attrs`\n",
    "\n",
    "    > events_df: play-by-play dataframe of team formations,\n",
    "                 match start/finish, and on-ball actions\n",
    "    '''\n",
    "\n",
    "    # events from specific match with valid on-ball player data\n",
    "    nonempty_df = events_df[(events_df['player_id'].notna()) & (events_df['team'] == 'Arsenal')][o_cols]\n",
    "\n",
    "    # select specific offensive actions (types)\n",
    "    nonempty_df = nonempty_df[nonempty_df['type'].isin(o_attrs)]\n",
    "\n",
    "    # split x,y coordinates\n",
    "    nonempty_df = pd.merge(\n",
    "        nonempty_df,\n",
    "        nonempty_df['location'].apply(list_to_string).str.split(',', expand=True),\n",
    "        left_index=True, right_index=True, how='outer'\n",
    "        )\n",
    "    nonempty_df.rename(columns={0:'location_x', 1:'location_y'}, inplace=True)\n",
    "    nonempty_df = pd.merge(\n",
    "        nonempty_df,\n",
    "        nonempty_df[nonempty_df['type'] == 'Pass']['pass_end_location'].apply(list_to_string).str.split(',', expand=True),\n",
    "        left_index=True, right_index=True, how='outer'\n",
    "        )\n",
    "    nonempty_df.rename(columns={0:'pass_end_x', 1:'pass_end_y'}, inplace=True)\n",
    "\n",
    "    # update type column to include crosses\n",
    "    nonempty_df['type'] = np.where(nonempty_df['pass_cross'] == 1, 'Cross', nonempty_df['type'])\n",
    "\n",
    "    # return dataframe with desired events\n",
    "    return nonempty_df.drop(columns=['location', 'pass_end_location'])"
   ]
  },
  {
   "cell_type": "code",
   "execution_count": null,
   "metadata": {},
   "outputs": [],
   "source": [
    "master_df = pd.concat([\n",
    "    preprocessing_events_df(sb.events(match_id=idx))\n",
    "    for idx in invincibles_df['match_id']\n",
    "]).reset_index(drop=True)"
   ]
  },
  {
   "cell_type": "code",
   "execution_count": null,
   "metadata": {},
   "outputs": [],
   "source": [
    "master_df"
   ]
  },
  {
   "cell_type": "code",
   "execution_count": null,
   "metadata": {},
   "outputs": [],
   "source": [
    "grouped_df = master_df.groupby(['player', 'type'])"
   ]
  },
  {
   "cell_type": "code",
   "execution_count": null,
   "metadata": {},
   "outputs": [],
   "source": [
    "player_dict = {player : dict() for player in master_df['player'].unique()}\n",
    "\n",
    "for player_type, type_df in grouped_df:\n",
    "    player_dict[player_type[0]][player_type[1]] = type_df"
   ]
  },
  {
   "cell_type": "code",
   "execution_count": null,
   "metadata": {},
   "outputs": [],
   "source": [
    "th_shot = player_dict['Thierry Henry']['Shot']"
   ]
  },
  {
   "cell_type": "code",
   "execution_count": null,
   "metadata": {},
   "outputs": [],
   "source": []
  },
  {
   "cell_type": "code",
   "execution_count": null,
   "metadata": {},
   "outputs": [],
   "source": []
  },
  {
   "cell_type": "code",
   "execution_count": null,
   "metadata": {},
   "outputs": [],
   "source": [
    "import matplotlib.patheffects as path_effects\n",
    "import matplotlib.pyplot as plt\n",
    "import numpy as np\n",
    "import pandas as pd\n",
    "from matplotlib.colors import LinearSegmentedColormap\n",
    "from scipy.ndimage import gaussian_filter\n",
    "\n",
    "from mplsoccer import Pitch, VerticalPitch, FontManager\n",
    "from mplsoccer.statsbomb import read_event, EVENT_SLUG\n",
    "\n",
    "df = th_shot[['location_x', 'location_y']].astype('float64')"
   ]
  },
  {
   "cell_type": "code",
   "execution_count": null,
   "metadata": {},
   "outputs": [],
   "source": [
    "# Tom Decroos, author of `matplotsoccer <https://github.com/TomDecroos/matplotsoccer>`_,\n",
    "# asked whether it was possible to plot a Gaussian smoothed heatmap,\n",
    "# which are available in matplotsoccer. Here is an example demonstrating this.\n",
    "\n",
    "# setup pitch\n",
    "pitch = Pitch(pitch_type='statsbomb', line_zorder=2,\n",
    "              pitch_color='#22312b', line_color='#efefef')\n",
    "# draw\n",
    "fig, ax = pitch.draw(figsize=(6.6, 4.125))\n",
    "fig.set_facecolor('#22312b')\n",
    "bin_statistic = pitch.bin_statistic(df.location_x, df.location_y, statistic='count', bins=(24, 25))\n",
    "bin_statistic['statistic'] = gaussian_filter(bin_statistic['statistic'], 1)\n",
    "pcm = pitch.heatmap(bin_statistic, ax=ax, cmap='hot', edgecolors='#22312b')\n",
    "# Add the colorbar and format off-white\n",
    "cbar = fig.colorbar(pcm, ax=ax, shrink=0.6)\n",
    "cbar.outline.set_edgecolor('#efefef')\n",
    "cbar.ax.yaxis.set_tick_params(color='#efefef')\n",
    "plt.setp(plt.getp(cbar.ax.axes, 'yticklabels'), color='#efefef')\n",
    "plt.show()"
   ]
  },
  {
   "cell_type": "code",
   "execution_count": null,
   "metadata": {},
   "outputs": [],
   "source": [
    "temp_df = sb.events(match_id=idx)\n",
    "arsenal_temp = temp_df[temp_df['team'] == 'Arsenal']\n",
    "# temp_df['shot_statsbomb_xg'].value_counts()\n"
   ]
  },
  {
   "cell_type": "code",
   "execution_count": null,
   "metadata": {},
   "outputs": [],
   "source": [
    "arsenal_temp['shot_outcome'].value_counts()"
   ]
  },
  {
   "cell_type": "code",
   "execution_count": null,
   "metadata": {},
   "outputs": [],
   "source": [
    "arsenal_temp.columns"
   ]
  },
  {
   "cell_type": "code",
   "execution_count": null,
   "metadata": {},
   "outputs": [],
   "source": [
    "def gather_team_data(match_id, events_df):\n",
    "    return pd.DataFrame(\n",
    "        {match_id : {\n",
    "            'xG' : events_df['shot_statsbomb_xg'].astype('float64').sum(),\n",
    "            'shots' : events_df[events_df['type'] == 'Shot'].shape[0],\n",
    "            'passes' : events_df[events_df['type'] == 'Pass'].shape[0],\n",
    "            'dribbles' : events_df[events_df['type'] == 'Dribble'].shape[0],\n",
    "            'goals' : events_df[events_df['shot_outcome'] == 'Goal'].shape[0]\n",
    "        }}\n",
    "    ).T\n",
    "    \n",
    "\n",
    "arsenal_summary_statistics = pd.concat([\n",
    "    gather_team_data(idx, sb.events(match_id=idx))\n",
    "    for idx in invincibles_df['match_id']\n",
    "])"
   ]
  },
  {
   "cell_type": "code",
   "execution_count": null,
   "metadata": {},
   "outputs": [],
   "source": [
    "arsenal_summary_statistics"
   ]
  },
  {
   "cell_type": "code",
   "execution_count": null,
   "metadata": {},
   "outputs": [],
   "source": []
  },
  {
   "cell_type": "code",
   "execution_count": null,
   "metadata": {},
   "outputs": [],
   "source": []
  },
  {
   "cell_type": "code",
   "execution_count": null,
   "metadata": {},
   "outputs": [],
   "source": []
  },
  {
   "cell_type": "code",
   "execution_count": null,
   "metadata": {},
   "outputs": [],
   "source": [
    "fm = FontManager()\n",
    "fm_rubik = FontManager(('https://github.com/google/fonts/blob/main/ofl/rubikmonoone/'\n",
    "                        'RubikMonoOne-Regular.ttf?raw=true'))"
   ]
  },
  {
   "cell_type": "code",
   "execution_count": null,
   "metadata": {},
   "outputs": [],
   "source": [
    "arsenal_shot_df = master_df[master_df['type'] == 'Shot']\n",
    "arsenal_shot_df"
   ]
  },
  {
   "cell_type": "code",
   "execution_count": null,
   "metadata": {},
   "outputs": [],
   "source": [
    "vertical_pitch = VerticalPitch(half=True, pad_top=0.05, pad_right=0.05, pad_bottom=0.05,\n",
    "                               pad_left=0.05, line_zorder=2)\n",
    "\n",
    "fig, axs = vertical_pitch.jointgrid(figheight=10, left=None, bottom=None,  # center aligned\n",
    "                                    grid_width=0.95, marginal=0.1,\n",
    "                                    # setting up the heights/space so it takes up 95% of the figure\n",
    "                                    grid_height=0.80,\n",
    "                                    title_height=0.1, endnote_height=0.03,\n",
    "                                    title_space=0.01, endnote_space=0.01,\n",
    "                                    axis=False,  # turn off title/ endnote/ marginal axes\n",
    "                                    # here we filter out the left and top marginal axes\n",
    "                                    ax_top=False, ax_bottom=True,\n",
    "                                    ax_left=False, ax_right=True)\n",
    "# typical shot map where the scatter points vary by the expected goals value\n",
    "# using alpha for transparency as there are a lot of shots stacked around the six-yard box\n",
    "sc_team2 = vertical_pitch.scatter(arsenal_shot_df['location_x'].astype('float64'), arsenal_shot_df['location_y'].astype('float64'),  s=arsenal_shot_df['shot_statsbomb_xg'] * 700,\n",
    "                                  alpha=0.5, ec='black', color='#db0007', ax=axs['pitch'])\n",
    "# kdeplots on the marginals\n",
    "# remember to flip the coordinates y=x, x=y for the marginals when using vertical orientation\n",
    "team2_hist_x = sns.kdeplot(y=arsenal_shot_df['location_x'].astype('float64'), ax=axs['right'], color='#db0007', shade=True)\n",
    "team2_hist_y = sns.kdeplot(x=arsenal_shot_df['location_y'].astype('float64'), ax=axs['bottom'], color='#db0007', shade=True)\n",
    "# txt1 = axs['pitch'].text(x=40, y=80, s='Arsenal', fontproperties=fm_rubik.prop, color=pitch.line_color,\n",
    "#                          ha='center', va='center', fontsize=60)\n",
    "\n",
    "# titles and endnote\n",
    "axs['title'].text(0.5, 0.7, \"Arsenal Shooting Chart\", color='#db0007',\n",
    "                  fontproperties=fm_rubik.prop, fontsize=18, ha='center', va='center')\n",
    "axs['title'].text(0.5, 0.3, \"2003/04\", color='#db0007',\n",
    "                  fontproperties=fm_rubik.prop, fontsize=12, ha='center', va='center')\n",
    "\n",
    "plt.show()"
   ]
  }
 ],
 "metadata": {
  "interpreter": {
   "hash": "1b51f8d25deed5bc6e36ed276154e4f544ef07f3564bb000bbe55172bfec9e7b"
  },
  "kernelspec": {
   "display_name": "Python 3.8.8 ('base')",
   "language": "python",
   "name": "python3"
  },
  "language_info": {
   "codemirror_mode": {
    "name": "ipython",
    "version": 3
   },
   "file_extension": ".py",
   "mimetype": "text/x-python",
   "name": "python",
   "nbconvert_exporter": "python",
   "pygments_lexer": "ipython3",
   "version": "3.8.8"
  },
  "orig_nbformat": 4
 },
 "nbformat": 4,
 "nbformat_minor": 2
}
