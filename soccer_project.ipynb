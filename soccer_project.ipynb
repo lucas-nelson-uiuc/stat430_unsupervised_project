{
 "cells": [
  {
   "cell_type": "markdown",
   "metadata": {},
   "source": [
    "## **STAT 430 Final Project**\n",
    "\n",
    "> Author: Lucas Nelson\n",
    "\n",
    "> Date: TBD\n",
    "\n",
    "In this notebook, we want to design a playing style vector for each player given enough data of their on-ball actions. This analysis specfically focuses on the 2003-2004 season of Arsenal FC, an English club that competes in the Premier League. Data is provided by StatsBomb OpenAccess."
   ]
  },
  {
   "cell_type": "markdown",
   "metadata": {},
   "source": [
    "---\n",
    "---\n",
    "\n",
    "### 00. Imported Libraries"
   ]
  },
  {
   "cell_type": "code",
   "execution_count": 2,
   "metadata": {},
   "outputs": [],
   "source": [
    "import pandas as pd\n",
    "import numpy as np\n",
    "\n",
    "from sklearn.decomposition import NMF\n",
    "from sklearn.manifold import TSNE\n",
    "\n",
    "from statsbombpy import sb\n",
    "from mplsoccer import Pitch, VerticalPitch, FontManager\n",
    "from mplsoccer.cm import create_transparent_cmap\n",
    "from mplsoccer.statsbomb import read_event, EVENT_SLUG\n",
    "\n",
    "import seaborn as sns\n",
    "import matplotlib.patheffects as path_effects\n",
    "import matplotlib.pyplot as plt\n",
    "from matplotlib.colors import LinearSegmentedColormap\n",
    "from scipy.ndimage import gaussian_filter\n",
    "\n",
    "from warnings import filterwarnings\n",
    "from statsbombpy.api_client import NoAuthWarning\n",
    "filterwarnings('ignore', category=NoAuthWarning)\n",
    "filterwarnings('ignore', category=FutureWarning)"
   ]
  },
  {
   "cell_type": "code",
   "execution_count": 3,
   "metadata": {},
   "outputs": [],
   "source": [
    "# sb.competitions()"
   ]
  },
  {
   "cell_type": "markdown",
   "metadata": {},
   "source": [
    "---\n",
    "---\n",
    "### 01. Filtering Play-by-Play Data per Match"
   ]
  },
  {
   "cell_type": "code",
   "execution_count": 4,
   "metadata": {},
   "outputs": [],
   "source": [
    "invincibles_df = sb.matches(competition_id=2, season_id=44).sort_values('match_date').reset_index(drop=True)"
   ]
  },
  {
   "cell_type": "code",
   "execution_count": 5,
   "metadata": {},
   "outputs": [],
   "source": [
    "# convert list column to two string columns\n",
    "list_to_string = lambda x: ','.join([str(i) for i in x])"
   ]
  },
  {
   "cell_type": "code",
   "execution_count": 6,
   "metadata": {},
   "outputs": [],
   "source": [
    "# yessirrrrrrr\n",
    "def preprocessing_events_df(\n",
    "    events_df,\n",
    "    o_cols=['player', 'location', 'type', 'pass_end_location',\n",
    "        'shot_outcome', 'dribble_outcome', 'pass_cross', 'shot_statsbomb_xg'],\n",
    "    o_attrs=['Pass', 'Shot', 'Dribble', 'Cross'],\n",
    "    time_cols=['match_id', 'minute', 'second']\n",
    "    ):\n",
    "    '''\n",
    "    Return dataframe that contains offense-related metrics\n",
    "    found in `offensive_cols` and `offensive_attrs`\n",
    "\n",
    "    > events_df: play-by-play dataframe of team formations,\n",
    "                 match start/finish, and on-ball actions\n",
    "    '''\n",
    "\n",
    "    # events from specific match with valid on-ball player data\n",
    "    nonempty_df = events_df[(events_df['player_id'].notna()) & (events_df['location'].notna()) & (events_df['team'] == 'Arsenal')][o_cols + time_cols]\n",
    "\n",
    "    # select specific offensive actions (types)\n",
    "    nonempty_df = nonempty_df[nonempty_df['type'].isin(o_attrs)]\n",
    "\n",
    "    # split x,y coordinates of location data\n",
    "    nonempty_df = pd.merge(\n",
    "        nonempty_df,\n",
    "        nonempty_df['location'].apply(list_to_string).str.split(',', expand=True),\n",
    "        left_index=True, right_index=True, how='outer'\n",
    "        )\n",
    "    nonempty_df.rename(columns={0:'location_x', 1:'location_y'}, inplace=True)\n",
    "\n",
    "    # split x,y coordinates of passing event data\n",
    "    nonempty_df = pd.merge(\n",
    "        nonempty_df,\n",
    "        nonempty_df[nonempty_df['type'] == 'Pass']['pass_end_location'].apply(list_to_string).str.split(',', expand=True),\n",
    "        left_index=True, right_index=True, how='outer'\n",
    "        )\n",
    "    nonempty_df.rename(columns={0:'pass_end_x', 1:'pass_end_y'}, inplace=True)\n",
    "\n",
    "    # update type column to include crosses\n",
    "    nonempty_df['type'] = np.where(nonempty_df['pass_cross'] == 1, 'Cross', nonempty_df['type'])\n",
    "\n",
    "    # return dataframe with desired events\n",
    "    return nonempty_df.drop(columns=['location', 'pass_end_location'])"
   ]
  },
  {
   "cell_type": "markdown",
   "metadata": {},
   "source": [
    "We'll store the results in a dataframe that contains all on-ball, offensive-oriented actions performed by Arsenal players in the 33 (of 38) matches provided in this database."
   ]
  },
  {
   "cell_type": "code",
   "execution_count": 7,
   "metadata": {},
   "outputs": [],
   "source": [
    "master_df = pd.concat([\n",
    "    preprocessing_events_df(sb.events(match_id=idx))\n",
    "    for idx in invincibles_df['match_id']\n",
    "]).reset_index(drop=True)"
   ]
  },
  {
   "cell_type": "markdown",
   "metadata": {},
   "source": [
    "To create our player vectors, we need to first separate out the actions by `player` to distinguish who did what and by `type` to learn more about how often (and - later on - where on the pitch) a player will commit an action. This will be saved in a dictionary for simplified looping later on."
   ]
  },
  {
   "cell_type": "code",
   "execution_count": 8,
   "metadata": {},
   "outputs": [],
   "source": [
    "grouped_df = master_df.drop(columns='match_id').groupby(['player', 'type'])"
   ]
  },
  {
   "cell_type": "code",
   "execution_count": 9,
   "metadata": {},
   "outputs": [],
   "source": [
    "player_dict = {player : dict() for player in master_df['player'].unique()}\n",
    "\n",
    "for player_type, type_df in grouped_df:\n",
    "    player_dict[player_type[0]][player_type[1]] = type_df"
   ]
  },
  {
   "cell_type": "markdown",
   "metadata": {},
   "source": [
    "Here we ensure each player has a dataframe for every type, even if they haven't registered an event for said type. This is to avoid errors in matrix operations due to differing shapes."
   ]
  },
  {
   "cell_type": "code",
   "execution_count": 10,
   "metadata": {},
   "outputs": [],
   "source": [
    "for player in player_dict:\n",
    "    for action in ['Pass', 'Shot', 'Dribble', 'Cross']:\n",
    "        if action not in player_dict[player].keys():\n",
    "            player_dict[player][action] = pd.DataFrame([player, action, np.nan, np.nan, np.nan, 0, 0, 0, 0, 0, 0, 0]).T\n",
    "            player_dict[player][action].columns=['player', 'type', 'shot_outcome', 'dribble_outcome', \n",
    "                'pass_cross', 'shot_statsbomb_xg', 'minute', 'second',\n",
    "                'location_x', 'location_y', 'pass_end_x', 'pass_end_y']"
   ]
  },
  {
   "cell_type": "markdown",
   "metadata": {},
   "source": [
    "---\n",
    "---\n",
    "\n",
    "#### 02. Aggregate Data for Arsenal\n",
    "\n",
    "With specific player data out of the way, we can move onto aggregate team data to learn more about the team as a whole."
   ]
  },
  {
   "cell_type": "code",
   "execution_count": 11,
   "metadata": {},
   "outputs": [],
   "source": [
    "# def gather_team_data(match_id, events_df):\n",
    "#     return pd.DataFrame(\n",
    "#         {match_id : {\n",
    "#             'xG' : events_df['shot_statsbomb_xg'].astype('float64').sum(),\n",
    "#             'shots' : events_df[events_df['type'] == 'Shot'].shape[0],\n",
    "#             'passes' : events_df[events_df['type'] == 'Pass'].shape[0],\n",
    "#             'dribbles' : events_df[events_df['type'] == 'Dribble'].shape[0],\n",
    "#             'goals' : events_df[events_df['shot_outcome'] == 'Goal'].shape[0]\n",
    "#         }}\n",
    "#     ).T\n",
    "\n",
    "\n",
    "# arsenal_summary_statistics = pd.concat([\n",
    "#     gather_team_data(idx, sb.events(match_id=idx))\n",
    "#     for idx in invincibles_df['match_id']\n",
    "# ])"
   ]
  },
  {
   "cell_type": "code",
   "execution_count": 12,
   "metadata": {},
   "outputs": [],
   "source": [
    "# arsenal_summary_statistics"
   ]
  },
  {
   "cell_type": "markdown",
   "metadata": {},
   "source": [
    "---\n",
    "---\n",
    "\n",
    "#### 03. Minute Data\n",
    "\n",
    "Let's gather minutes data per player to scale our player data."
   ]
  },
  {
   "cell_type": "code",
   "execution_count": 13,
   "metadata": {},
   "outputs": [],
   "source": [
    "def gather_time_information(events_df):\n",
    "    return events_df[(events_df['player_id'].notna()) & (events_df['team'] == 'Arsenal')][['match_id', 'player', 'minute', 'second']]"
   ]
  },
  {
   "cell_type": "code",
   "execution_count": 14,
   "metadata": {},
   "outputs": [],
   "source": [
    "time_df = pd.concat([\n",
    "    gather_time_information(sb.events(match_id=idx))\n",
    "    for idx in invincibles_df['match_id']\n",
    "]).reset_index(drop=True)"
   ]
  },
  {
   "cell_type": "code",
   "execution_count": 15,
   "metadata": {},
   "outputs": [],
   "source": [
    "time_per_match = time_df.groupby(['player', 'match_id']).agg({'minute': ['min', 'max']})\n",
    "total_minutes_df = pd.DataFrame(time_per_match['minute']['max'] - time_per_match['minute']['min']).reset_index().groupby(['player', 'match_id']).sum().rename(columns={0:'minutes'})\n",
    "total_minutes_dict = total_minutes_df.to_dict()"
   ]
  },
  {
   "cell_type": "markdown",
   "metadata": {},
   "source": [
    "---\n",
    "---\n",
    "\n",
    "#### 04. Heatmaps to Vectors"
   ]
  },
  {
   "cell_type": "code",
   "execution_count": 16,
   "metadata": {},
   "outputs": [],
   "source": [
    "# keys are action types, values will be dataframes containing each player's compressed heatmap\n",
    "nmf_dict = {'Pass':[], 'Shot':[], 'Dribble':[], 'Cross':[]}"
   ]
  },
  {
   "cell_type": "code",
   "execution_count": 17,
   "metadata": {},
   "outputs": [],
   "source": [
    "def player_action_heatmap(player, action, nrows=24, ncols=25):\n",
    "    if player not in player_dict:\n",
    "        print(f'Invalid player entry: {player} not found')\n",
    "        return None\n",
    "    if action not in player_dict[player]:\n",
    "        print(f'Invalid action type for {player}: {action} not found')\n",
    "        return None\n",
    "    \n",
    "    player_total_mins = np.sum([total_minutes_dict['minutes'][tup] for tup in total_minutes_dict['minutes'] if tup[0] == player])\n",
    "\n",
    "    heatmap_dict = {'Pass':[], 'Shot':[], 'Dribble':[], 'Cross':[]}\n",
    "    # create empty dataframe of specified dimensions\n",
    "    heatmap_matrix = np.zeros(shape=(nrows, ncols))\n",
    "\n",
    "    # partition the field evenly (could be altered depending on weights\n",
    "    # of different grid patterns on the field)\n",
    "    row_divs = np.round(np.linspace(0, 80, nrows), 2)\n",
    "    col_divs = np.round(np.linspace(0, 120, ncols), 2)\n",
    "\n",
    "    # iterate over rows and assign count to specific cell grid\n",
    "    for _, action in player_dict[player][action][['location_x', 'location_y']].iterrows():\n",
    "        # assign to closest row grid cell and column grid cell\n",
    "        grid_row = np.abs(row_divs - np.float64(action['location_y'])).argmin()\n",
    "        grid_col = np.abs(col_divs - np.float64(action['location_x'])).argmin()\n",
    "        # argmin index out of bounds if closest to upper bound (nrows, ncols)\n",
    "        if grid_row == nrows: grid_row -= 1\n",
    "        if grid_col == ncols: grid_col -= 1\n",
    "        # update corresponding grid cell (of player-action combo) by one adj. 90-min frequency\n",
    "        heatmap_matrix[grid_row, grid_col] += 90 / player_total_mins\n",
    "    \n",
    "    return gaussian_filter(heatmap_matrix, sigma=1.5)"
   ]
  },
  {
   "cell_type": "code",
   "execution_count": 18,
   "metadata": {},
   "outputs": [],
   "source": [
    "def compressed_heatmap_matrix(player_action_dict, nrows=24, ncols=25):\n",
    "    nmf_dict = {action:pd.DataFrame([0]*600, index=range(600), columns=['dummy']) for action in ['Pass', 'Dribble', 'Shot', 'Cross']}\n",
    "    \n",
    "    for player in player_action_dict:\n",
    "        for action in player_action_dict[player]:\n",
    "            nmf_dict[action][player] = player_action_heatmap(player, action, nrows, ncols).reshape(1, 600)[0]\n",
    "    \n",
    "    return {action: nmf_dict[action].drop(columns='dummy') for action in ['Pass', 'Dribble', 'Shot', 'Cross']}"
   ]
  },
  {
   "cell_type": "code",
   "execution_count": 19,
   "metadata": {},
   "outputs": [],
   "source": [
    "(_, nmf_pass_matrix), (_, nmf_dribble_matrix), (_, nmf_shot_matrix), (_, nmf_cross_matrix) = compressed_heatmap_matrix(player_action_dict=player_dict).items()"
   ]
  },
  {
   "cell_type": "markdown",
   "metadata": {},
   "source": [
    "---\n",
    "---\n",
    "\n",
    "#### 05. Principal Component Analysis"
   ]
  },
  {
   "cell_type": "code",
   "execution_count": 20,
   "metadata": {},
   "outputs": [],
   "source": [
    "from sklearn.decomposition import PCA"
   ]
  },
  {
   "cell_type": "code",
   "execution_count": 30,
   "metadata": {},
   "outputs": [],
   "source": [
    "nmf_explained_variances = [\n",
    "    PCA(n_components=nmf_action_mat.shape[1]).fit(nmf_action_mat).explained_variance_ratio_.cumsum()\n",
    "    for nmf_action_mat in [nmf_pass_matrix, nmf_shot_matrix, nmf_dribble_matrix, nmf_cross_matrix]\n",
    "    ]"
   ]
  },
  {
   "cell_type": "code",
   "execution_count": 56,
   "metadata": {},
   "outputs": [
    {
     "data": {
      "image/png": "[encoded data removed]",
      "text/plain": [
       "<Figure size 432x288 with 1 Axes>"
      ]
     },
     "metadata": {
      "needs_background": "light"
     },
     "output_type": "display_data"
    }
   ],
   "source": [
    "actions = ['Pass', 'Shot', 'Dribble', 'Cross']\n",
    "for i, exp_var in enumerate(nmf_explained_variances):\n",
    "    plt.plot(range(0, len(exp_var)+1), [0] + list(exp_var))\n",
    "\n",
    "plt.plot(range(0,21), [0.8]*21, '--')\n",
    "plt.title('Explained Variance per Action')\n",
    "plt.ylabel('Percent Explained')\n",
    "plt.xlabel('Number of Features')\n",
    "plt.legend(['Pass', 'Shot', 'Dribble', 'Cross'])\n",
    "plt.ylim([-0.1,1.1])\n",
    "plt.show()"
   ]
  },
  {
   "cell_type": "code",
   "execution_count": null,
   "metadata": {},
   "outputs": [],
   "source": []
  },
  {
   "cell_type": "markdown",
   "metadata": {},
   "source": [
    "---\n",
    "---\n",
    "#### 06. Non-negative Matrix Factoriziation\n",
    "\n",
    "Let's get into the thick of it."
   ]
  },
  {
   "cell_type": "markdown",
   "metadata": {},
   "source": [
    "Let's analyze a single action type matrix: pass. Results don't look that great."
   ]
  },
  {
   "cell_type": "code",
   "execution_count": null,
   "metadata": {},
   "outputs": [],
   "source": [
    "nmf_pass = NMF(n_components=6, random_state=100)\n",
    "W = pd.DataFrame(nmf_pass.fit_transform(nmf_pass_matrix))\n",
    "H = pd.DataFrame(nmf_pass.components_, columns=nmf_pass_matrix.columns)\n",
    "cls_mem = W.apply(lambda x: x / sum(x), axis=1)"
   ]
  },
  {
   "cell_type": "code",
   "execution_count": null,
   "metadata": {},
   "outputs": [],
   "source": [
    "for i in range(W.shape[1]):\n",
    "    # Tom Decroos, author of `matplotsoccer <https://github.com/TomDecroos/matplotsoccer>`_,\n",
    "    # asked whether it was possible to plot a Gaussian smoothed heatmap,\n",
    "    # which are available in matplotsoccer. Here is an example demonstrating this.\n",
    "\n",
    "    # reshape vector\n",
    "    df = np.array(W.iloc[:, i]).reshape((24, 25))\n",
    "    \n",
    "    # setup pitch\n",
    "    pitch = Pitch(pitch_type='statsbomb', line_zorder=2,\n",
    "                pitch_color='#22312b', line_color='#efefef')\n",
    "    # draw\n",
    "    fig, ax = pitch.draw(figsize=(6.6, 4.125))\n",
    "    fig.set_facecolor('#22312b')\n",
    "    # bin_statistic = pitch.bin_statistic(df.location_x, df.location_y, statistic='count', bins=(24,25))\n",
    "    # bin_statistic['statistic'] = gaussian_filter(bin_statistic['statistic'], 1)\n",
    "    faux_bin = bin_statistic\n",
    "    faux_bin['statistic'] = pd.DataFrame(np.array(W.iloc[:, i]).reshape((24, 25))).T\n",
    "    pcm = pitch.heatmap(faux_bin, ax=ax, cmap='mako', edgecolors='#22312b')\n",
    "    # Add the colorbar and format off-white\n",
    "    cbar = fig.colorbar(pcm, ax=ax, shrink=0.6)\n",
    "    cbar.outline.set_edgecolor('#efefef')\n",
    "    cbar.ax.yaxis.set_tick_params(color='#efefef')\n",
    "    plt.setp(plt.getp(cbar.ax.axes, 'yticklabels'), color='#efefef')\n",
    "    plt.show()"
   ]
  },
  {
   "cell_type": "markdown",
   "metadata": {},
   "source": [
    "Let's analyze each NMF matrix for action type t and perform NMF on that action type matrix. We should be able to pick a certain number of components (complexity regions) for each action and combine them to form each player's vector."
   ]
  },
  {
   "cell_type": "code",
   "execution_count": null,
   "metadata": {},
   "outputs": [],
   "source": [
    "# code goes here"
   ]
  },
  {
   "cell_type": "markdown",
   "metadata": {},
   "source": [
    "#### Preserved Information of NMF\n",
    "Let's see how well we preserve Thierry Henry's shot heatmap using only four features."
   ]
  },
  {
   "cell_type": "code",
   "execution_count": null,
   "metadata": {},
   "outputs": [],
   "source": [
    "nmf_shot = NMF(n_components=4, random_state=100)\n",
    "nmf_shot_W = pd.DataFrame(nmf_shot.fit_transform(nmf_shot_matrix))\n",
    "nmf_shot_H = pd.DataFrame(nmf_shot.components_, columns=nmf_shot_matrix.columns)\n",
    "nmf_shot_clsmem = nmf_shot_W.apply(lambda x: x / sum(x), axis=1).fillna(0)"
   ]
  },
  {
   "cell_type": "code",
   "execution_count": null,
   "metadata": {},
   "outputs": [],
   "source": [
    "import pandas as pd\n",
    "import numpy as np\n",
    "from mplsoccer import Pitch\n",
    "import seaborn as sns\n",
    "\n",
    "nmf_shot_W = pd.read_csv('https://raw.githubusercontent.com/lucas-nelson-uiuc/datasets/main/nmf_show_W.csv').iloc[:, 1:]\n",
    "nmf_shot_ThierryHenry = pd.read_csv('https://raw.githubusercontent.com/lucas-nelson-uiuc/datasets/main/nmf_show_Hth.csv')['Thierry Henry']\n",
    "\n",
    "dfdfdf = np.array(np.matmul(nmf_shot_W, nmf_shot_ThierryHenry)).reshape((24,25))\n",
    "g_ax = sns.heatmap(dfdfdf, cbar=False)\n",
    "pitch.draw(ax=g_ax)"
   ]
  },
  {
   "cell_type": "code",
   "execution_count": null,
   "metadata": {},
   "outputs": [],
   "source": [
    "fig, axsss = pitch.draw(figsize=(6.6, 4.125))\n",
    "fig.set_facecolor('#22312b')\n",
    "sns.heatmap(dfdfdf, cbar=False, ax=axsss)"
   ]
  },
  {
   "cell_type": "code",
   "execution_count": null,
   "metadata": {},
   "outputs": [],
   "source": [
    "for i in range(nmf_shot_W.shape[1]):\n",
    "    # Tom Decroos, author of `matplotsoccer <https://github.com/TomDecroos/matplotsoccer>`_,\n",
    "    # asked whether it was possible to plot a Gaussian smoothed heatmap,\n",
    "    # which are available in matplotsoccer. Here is an example demonstrating this.\n",
    "\n",
    "    # reshape vector\n",
    "    print(f'NMF Component #{i}')\n",
    "    sns.heatmap(pd.DataFrame(np.array(nmf_shot_W.iloc[:, i]).reshape((24, 25))))\n",
    "    plt.show()"
   ]
  },
  {
   "cell_type": "code",
   "execution_count": null,
   "metadata": {},
   "outputs": [],
   "source": [
    "sns.heatmap(np.array(np.matmul(nmf_shot_W, nmf_shot_H['Thierry Henry'])).reshape((24,25)))"
   ]
  },
  {
   "cell_type": "markdown",
   "metadata": {},
   "source": [
    "#### Concatenated Matrices\n",
    "Now repeat with concatenated version of all matrices. First check that indicies line up so that we can perform proper matrix addition."
   ]
  },
  {
   "cell_type": "markdown",
   "metadata": {},
   "source": [
    "---\n",
    "---\n",
    "\n",
    "#### 0x. Finish"
   ]
  },
  {
   "cell_type": "markdown",
   "metadata": {},
   "source": [
    "This bit here is gibberish"
   ]
  },
  {
   "cell_type": "markdown",
   "metadata": {},
   "source": [
    "---\n",
    "---\n",
    "\n",
    "#### **Appendix** [Plotting Data]"
   ]
  },
  {
   "cell_type": "markdown",
   "metadata": {},
   "source": [
    "For fun, we'll strictly gather Thierry Henry's shot, pass, dribble, and cross data to visualize each individual heat map below. This will tell us where on the pitch and how often Henry performs each action."
   ]
  },
  {
   "cell_type": "code",
   "execution_count": null,
   "metadata": {},
   "outputs": [],
   "source": [
    "th_shot = player_dict['Thierry Henry']['Shot']\n",
    "df = th_shot[['location_x', 'location_y']].astype('float64')"
   ]
  },
  {
   "cell_type": "code",
   "execution_count": null,
   "metadata": {},
   "outputs": [],
   "source": [
    "# Tom Decroos, author of `matplotsoccer <https://github.com/TomDecroos/matplotsoccer>`_,\n",
    "# asked whether it was possible to plot a Gaussian smoothed heatmap,\n",
    "# which are available in matplotsoccer. Here is an example demonstrating this.\n",
    "\n",
    "# setup pitch\n",
    "pitch = Pitch(pitch_type='statsbomb', line_zorder=2,\n",
    "              pitch_color='#22312b', line_color='#efefef')\n",
    "# draw\n",
    "fig, ax = pitch.draw(figsize=(6.6, 4.125))\n",
    "fig.set_facecolor('#22312b')\n",
    "bin_statistic = pitch.bin_statistic(df.location_x, df.location_y, statistic='count', bins=(24,25))\n",
    "bin_statistic['statistic'] = gaussian_filter(bin_statistic['statistic'], 1.5)\n",
    "pcm = pitch.heatmap(bin_statistic, ax=ax, cmap='mako', edgecolors='#22312b')\n",
    "# Add the colorbar and format off-white\n",
    "cbar = fig.colorbar(pcm, ax=ax, shrink=0.6)\n",
    "cbar.outline.set_edgecolor('#efefef')\n",
    "cbar.ax.yaxis.set_tick_params(color='#efefef')\n",
    "plt.setp(plt.getp(cbar.ax.axes, 'yticklabels'), color='#efefef')\n",
    "plt.show()"
   ]
  },
  {
   "cell_type": "code",
   "execution_count": null,
   "metadata": {},
   "outputs": [],
   "source": [
    "th_pass = player_dict['Thierry Henry']['Pass']\n",
    "df = th_pass[['location_x', 'location_y']].astype('float64')"
   ]
  },
  {
   "cell_type": "code",
   "execution_count": null,
   "metadata": {},
   "outputs": [],
   "source": [
    "# Tom Decroos, author of `matplotsoccer <https://github.com/TomDecroos/matplotsoccer>`_,\n",
    "# asked whether it was possible to plot a Gaussian smoothed heatmap,\n",
    "# which are available in matplotsoccer. Here is an example demonstrating this.\n",
    "\n",
    "# setup pitch\n",
    "pitch = Pitch(pitch_type='statsbomb', line_zorder=2,\n",
    "              pitch_color='#22312b', line_color='#efefef')\n",
    "# draw\n",
    "fig, ax = pitch.draw(figsize=(6.6, 4.125))\n",
    "fig.set_facecolor('#22312b')\n",
    "bin_statistic = pitch.bin_statistic(df.location_x, df.location_y, statistic='count', bins=(20,24))\n",
    "bin_statistic['statistic'] = gaussian_filter(bin_statistic['statistic'], 1)\n",
    "pcm = pitch.heatmap(bin_statistic, ax=ax, cmap='mako', edgecolors='#22312b')\n",
    "# Add the colorbar and format off-white\n",
    "cbar = fig.colorbar(pcm, ax=ax, shrink=0.6)\n",
    "cbar.outline.set_edgecolor('#efefef')\n",
    "cbar.ax.yaxis.set_tick_params(color='#efefef')\n",
    "plt.setp(plt.getp(cbar.ax.axes, 'yticklabels'), color='#efefef')\n",
    "plt.show()"
   ]
  },
  {
   "cell_type": "code",
   "execution_count": null,
   "metadata": {},
   "outputs": [],
   "source": [
    "th_dribble = player_dict['Thierry Henry']['Dribble']\n",
    "df = th_dribble[['location_x', 'location_y']].astype('float64')"
   ]
  },
  {
   "cell_type": "code",
   "execution_count": null,
   "metadata": {},
   "outputs": [],
   "source": [
    "# Tom Decroos, author of `matplotsoccer <https://github.com/TomDecroos/matplotsoccer>`_,\n",
    "# asked whether it was possible to plot a Gaussian smoothed heatmap,\n",
    "# which are available in matplotsoccer. Here is an example demonstrating this.\n",
    "\n",
    "# setup pitch\n",
    "pitch = Pitch(pitch_type='statsbomb', line_zorder=2,\n",
    "              pitch_color='#22312b', line_color='#efefef')\n",
    "# draw\n",
    "fig, ax = pitch.draw(figsize=(6.6, 4.125))\n",
    "fig.set_facecolor('#22312b')\n",
    "bin_statistic = pitch.bin_statistic(df.location_x, df.location_y, statistic='count', bins=(24,25))\n",
    "bin_statistic['statistic'] = gaussian_filter(bin_statistic['statistic'], 1.5)\n",
    "pcm = pitch.heatmap(bin_statistic, ax=ax, cmap='mako', edgecolors='#22312b')\n",
    "# Add the colorbar and format off-white\n",
    "cbar = fig.colorbar(pcm, ax=ax, shrink=0.6)\n",
    "cbar.outline.set_edgecolor('#efefef')\n",
    "cbar.ax.yaxis.set_tick_params(color='#efefef')\n",
    "plt.setp(plt.getp(cbar.ax.axes, 'yticklabels'), color='#efefef')\n",
    "plt.show()"
   ]
  },
  {
   "cell_type": "code",
   "execution_count": null,
   "metadata": {},
   "outputs": [],
   "source": [
    "th_cross = player_dict['Thierry Henry']['Cross']\n",
    "df = th_cross[['location_x', 'location_y']].astype('float64')"
   ]
  },
  {
   "cell_type": "code",
   "execution_count": null,
   "metadata": {},
   "outputs": [],
   "source": [
    "# Tom Decroos, author of `matplotsoccer <https://github.com/TomDecroos/matplotsoccer>`_,\n",
    "# asked whether it was possible to plot a Gaussian smoothed heatmap,\n",
    "# which are available in matplotsoccer. Here is an example demonstrating this.\n",
    "\n",
    "# setup pitch\n",
    "pitch = Pitch(pitch_type='statsbomb', line_zorder=2,\n",
    "              pitch_color='#22312b', line_color='#efefef')\n",
    "# draw\n",
    "fig, ax = pitch.draw(figsize=(6.6, 4.125))\n",
    "fig.set_facecolor('#22312b')\n",
    "bin_statistic = pitch.bin_statistic(df.location_x, df.location_y, statistic='count', bins=(24,25))\n",
    "bin_statistic['statistic'] = gaussian_filter(bin_statistic['statistic'], 1.5)\n",
    "pcm = pitch.heatmap(bin_statistic, ax=ax, cmap='mako', edgecolors='#22312b')\n",
    "# Add the colorbar and format off-white\n",
    "cbar = fig.colorbar(pcm, ax=ax, shrink=0.6)\n",
    "cbar.outline.set_edgecolor('#efefef')\n",
    "cbar.ax.yaxis.set_tick_params(color='#efefef')\n",
    "plt.setp(plt.getp(cbar.ax.axes, 'yticklabels'), color='#efefef')\n",
    "plt.show()"
   ]
  },
  {
   "cell_type": "markdown",
   "metadata": {},
   "source": [
    "And now for the rest of the team."
   ]
  },
  {
   "cell_type": "code",
   "execution_count": null,
   "metadata": {},
   "outputs": [],
   "source": [
    "for action in ['Pass', 'Dribble', 'Shot', 'Cross']:\n",
    "    \n",
    "    print(f'{action.upper()} distribution per player')\n",
    "\n",
    "    pitch = Pitch(pitch_type='statsbomb', line_zorder=2, line_color='#efefef')\n",
    "    fig, axs = pitch.draw(nrows=4, ncols=5, figsize=(20,10), tight_layout=False, constrained_layout=True)\n",
    "\n",
    "    for i, player in enumerate(H.columns):\n",
    "        # draw\n",
    "        df = player_dict[player][action]\n",
    "        df[['location_x', 'location_y']] = df[['location_x', 'location_y']].astype('float64')\n",
    "        bin_statistic = pitch.bin_statistic(df['location_x'], df['location_y'], statistic='count', bins=(24,25))\n",
    "        bin_statistic['statistic'] = gaussian_filter(bin_statistic['statistic'], 1.5)\n",
    "        pcm = pitch.heatmap(bin_statistic, ax=axs[i//5, i%5], cmap='mako', edgecolors='#22312b')\n",
    "        # Add the colorbar and format off-white\n",
    "        cbar = fig.colorbar(pcm, ax=ax, shrink=0.6)\n",
    "        cbar.outline.set_edgecolor('#efefef')\n",
    "        cbar.ax.yaxis.set_tick_params(color='#efefef')\n",
    "        plt.setp(plt.getp(cbar.ax.axes, 'yticklabels'), color='#efefef')\n",
    "        axs[i//5, i%5].set_title(player.upper())\n",
    "    plt.show()"
   ]
  },
  {
   "cell_type": "markdown",
   "metadata": {},
   "source": [
    "---\n",
    "---\n",
    "#### **Appendix** [Trial Experiments]"
   ]
  },
  {
   "cell_type": "markdown",
   "metadata": {},
   "source": [
    "---\n",
    "#### Data Extraction"
   ]
  },
  {
   "cell_type": "markdown",
   "metadata": {},
   "source": [
    "###### **COMPONENT WITH HEAVY FAVOR FOR LOCATION<40 IS CONSIDERING BACKPASSES TO KEEPER AND EXTENDED DRIBBLES**"
   ]
  },
  {
   "cell_type": "code",
   "execution_count": null,
   "metadata": {},
   "outputs": [],
   "source": [
    "offensive_df = master_df[master_df['type'].isin(['Pass', 'Shot', 'Dribble', 'Cross'])].copy()\n",
    "offensive_df[['location_x', 'location_y']] = offensive_df[['location_x', 'location_y']].astype('float64')"
   ]
  },
  {
   "cell_type": "code",
   "execution_count": null,
   "metadata": {},
   "outputs": [],
   "source": [
    "pitch = Pitch()\n",
    "fig, ax = pitch.draw(figsize=(14, 12))\n",
    "\n",
    "\n",
    "cross_df = offensive_df[offensive_df['type'] == 'Cross']\n",
    "sc1 = pitch.scatter(cross_df['location_x'], cross_df['location_y'],\n",
    "                   c='#063672',  # color for scatter in hex format\n",
    "                   s=60, marker='P',\n",
    "                   edgecolors='#383838', alpha=0.9,\n",
    "                   ax=ax)\n",
    "\n",
    "dribble_df = offensive_df[offensive_df['type'] == 'Dribble']\n",
    "sc1 = pitch.scatter(dribble_df['location_x'], dribble_df['location_y'],\n",
    "                   c='#063672',  # color for scatter in hex format,\n",
    "                   s=60, marker='>',\n",
    "                   edgecolors='#000000', alpha=0.9,\n",
    "                   ax=ax)\n",
    "\n",
    "pass_df = offensive_df[offensive_df['type'] == 'Pass']\n",
    "sc2 = pitch.scatter(pass_df['location_x'], pass_df['location_y'],\n",
    "                   c='#9C824A',  # color for scatter in hex format\n",
    "                   s=10, marker='.',\n",
    "                   edgecolors='#383838', alpha=0.9,\n",
    "                   ax=ax)\n",
    "\n",
    "shot_df = offensive_df[offensive_df['type'] == 'Shot']\n",
    "sc3 = pitch.scatter(shot_df['location_x'], shot_df['location_y'],\n",
    "                   c='#DB0007',  # color for scatter in hex format\n",
    "                   s=shot_df['shot_statsbomb_xg'] * 900,\n",
    "                   marker='X',\n",
    "                   edgecolors='#383838', alpha=0.9,\n",
    "                   ax=ax)\n",
    "\n",
    "plt.show()  # If you are using a Jupyter notebook you do not need this line"
   ]
  },
  {
   "cell_type": "code",
   "execution_count": null,
   "metadata": {},
   "outputs": [],
   "source": [
    "sns.barplot(x=offensive_df['type'].unique(), y=offensive_df['type'].value_counts(), palette=['#9C824A', '#063672', '#000000', '#DB0007'])\n",
    "plt.show()"
   ]
  },
  {
   "cell_type": "code",
   "execution_count": null,
   "metadata": {},
   "outputs": [],
   "source": [
    "aggresive_df = master_df[(master_df['location_x'].astype('float64') >= 40) & (master_df['type'].isin(['Pass', 'Shot', 'Dribble', 'Cross']))].copy()\n",
    "# aggresive_df = master_df[(master_df['location_x'].astype('float64') <= 24) & (master_df['location_y'].astype('float64') <= 25) & (master_df['type'].isin(['Pass', 'Shot', 'Dribble', 'Cross']))].copy()\n",
    "aggresive_df[['location_x', 'location_y']] = aggresive_df[['location_x', 'location_y']].astype('float64')"
   ]
  },
  {
   "cell_type": "code",
   "execution_count": null,
   "metadata": {},
   "outputs": [],
   "source": [
    "pitch = Pitch()\n",
    "fig, ax = pitch.draw(figsize=(14, 12))\n",
    "\n",
    "\n",
    "cross_df = aggresive_df[aggresive_df['type'] == 'Cross']\n",
    "sc1 = pitch.scatter(cross_df['location_x'], cross_df['location_y'],\n",
    "                   c='#063672',  # color for scatter in hex format\n",
    "                   s=60, marker='P',\n",
    "                   edgecolors='#383838', alpha=0.9,\n",
    "                   ax=ax)\n",
    "\n",
    "dribble_df = aggresive_df[aggresive_df['type'] == 'Dribble']\n",
    "sc1 = pitch.scatter(dribble_df['location_x'], dribble_df['location_y'],\n",
    "                   c='#000000',  # color for scatter in hex format,\n",
    "                   s=60, marker='>',\n",
    "                   edgecolors='#383838', alpha=0.9,\n",
    "                   ax=ax)\n",
    "\n",
    "pass_df = aggresive_df[aggresive_df['type'] == 'Pass']\n",
    "sc2 = pitch.scatter(pass_df['location_x'], pass_df['location_y'],\n",
    "                   c='#9C824A',  # color for scatter in hex format\n",
    "                   s=10, marker='.',\n",
    "                   edgecolors='#383838', alpha=0.9,\n",
    "                   ax=ax)\n",
    "\n",
    "shot_df = aggresive_df[aggresive_df['type'] == 'Shot']\n",
    "sc3 = pitch.scatter(shot_df['location_x'], shot_df['location_y'],\n",
    "                   c='#DB0007',  # color for scatter in hex format\n",
    "                   s=shot_df['shot_statsbomb_xg'] * 900,\n",
    "                   marker='X',\n",
    "                   edgecolors='#383838', alpha=0.9,\n",
    "                   ax=ax)\n",
    "\n",
    "plt.show()  # If you are using a Jupyter notebook you do not need this line"
   ]
  },
  {
   "cell_type": "code",
   "execution_count": null,
   "metadata": {},
   "outputs": [],
   "source": [
    "sns.barplot(x=aggresive_df['type'].unique(), y=aggresive_df['type'].value_counts(), palette=['#9C824A', '#063672', '#000000', '#DB0007'])\n",
    "plt.show()"
   ]
  },
  {
   "cell_type": "markdown",
   "metadata": {},
   "source": [
    "---\n",
    "\n",
    "#### Plots"
   ]
  },
  {
   "cell_type": "markdown",
   "metadata": {},
   "source": [
    "###### **> Arsenal Shot Distribution**"
   ]
  },
  {
   "cell_type": "code",
   "execution_count": null,
   "metadata": {},
   "outputs": [],
   "source": [
    "vertical_pitch = VerticalPitch(half=True, pad_top=0.05, pad_right=0.05, pad_bottom=0.05,\n",
    "                               pad_left=0.05, line_zorder=2)\n",
    "fm = FontManager()\n",
    "fm_rubik = FontManager(('https://github.com/google/fonts/blob/main/ofl/rubikmonoone/'\n",
    "                        'RubikMonoOne-Regular.ttf?raw=true'))"
   ]
  },
  {
   "cell_type": "code",
   "execution_count": null,
   "metadata": {},
   "outputs": [],
   "source": [
    "arsenal_shot_df = master_df[master_df['type'] == 'Shot'].copy()\n",
    "arsenal_shot_df[['location_x', 'location_y']] = arsenal_shot_df[['location_x', 'location_y']].astype('float64')"
   ]
  },
  {
   "cell_type": "markdown",
   "metadata": {},
   "source": [
    "###### **> Marked Shot Distribution**"
   ]
  },
  {
   "cell_type": "code",
   "execution_count": null,
   "metadata": {},
   "outputs": [],
   "source": [
    "fm_rubik = FontManager(('https://github.com/google/fonts/blob/main/ofl/rubikmonoone/'\n",
    "                        'RubikMonoOne-Regular.ttf?raw=true'))\n",
    "pitch = VerticalPitch(pad_bottom=0.5,  # pitch extends slightly below halfway line\n",
    "                      half=True,  # half of a pitch\n",
    "                      goal_type='box',\n",
    "                      goal_alpha=0.8)  # control the goal transparency"
   ]
  },
  {
   "cell_type": "code",
   "execution_count": null,
   "metadata": {},
   "outputs": [],
   "source": [
    "# filter goals / non-shot goals\n",
    "arsenal_non_goal_df = master_df[(master_df['type'] == 'Shot') & (master_df['shot_outcome'] != 'Goal')].copy()\n",
    "arsenal_non_goal_df[['location_x', 'location_y']] = arsenal_non_goal_df[['location_x', 'location_y']].astype('float64')\n",
    "arsenal_goal_df = master_df[(master_df['type'] == 'Shot') & (master_df['shot_outcome'] == 'Goal')].copy()\n",
    "arsenal_goal_df[['location_x', 'location_y']] = arsenal_goal_df[['location_x', 'location_y']].astype('float64')"
   ]
  },
  {
   "cell_type": "code",
   "execution_count": null,
   "metadata": {},
   "outputs": [],
   "source": [
    "fig, ax = pitch.draw(figsize=(12, 10))\n",
    "\n",
    "# plot non-goal shots with hatch\n",
    "sc1 = pitch.scatter(arsenal_non_goal_df['location_x'], arsenal_non_goal_df['location_y'],\n",
    "                    # size varies between 100 and 1900 (points squared)\n",
    "                    s=(arsenal_non_goal_df['shot_statsbomb_xg'] * 1900) + 100,\n",
    "                    edgecolors='#9C824A',  # give the markers a charcoal border\n",
    "                    c='None',  # no facecolor for the markers\n",
    "                    hatch='//',  # the all important hatch (triple diagonal lines)\n",
    "                    # for other markers types see: https://matplotlib.org/api/markers_api.html\n",
    "                    marker='o',\n",
    "                    ax=ax)\n",
    "\n",
    "# plot goal shots with a color\n",
    "sc2 = pitch.scatter(arsenal_goal_df['location_x'], arsenal_goal_df['location_y'],\n",
    "                    # size varies between 100 and 1900 (points squared)\n",
    "                    s=(arsenal_goal_df['shot_statsbomb_xg'] * 1900) + 100,\n",
    "                    edgecolors='#063672',  # give the markers a charcoal border\n",
    "                    c='#EF0107',  # color for scatter in hex format\n",
    "                    # for other markers types see: https://matplotlib.org/api/markers_api.html\n",
    "                    marker='o',\n",
    "                    ax=ax)\n",
    "\n",
    "team2_hist_x = sns.kdeplot(y=arsenal_goal_df['location_x'], ax=axs['right'], color='#697cd4', shade=True)\n",
    "team2_hist_y = sns.kdeplot(x=arsenal_goal_df['location_y'], ax=axs['bottom'], color='#697cd4', shade=True)\n",
    "\n",
    "txt = ax.text(x=40, y=70, s='Arsenal Shot Distribution\\n(color indicates conversion)',\n",
    "              size=20,\n",
    "              # here i am using a downloaded font from google fonts instead of passing a fontdict\n",
    "              fontproperties=fm_rubik.prop, color=pitch.line_color,\n",
    "              va='center', ha='center')"
   ]
  },
  {
   "cell_type": "code",
   "execution_count": null,
   "metadata": {},
   "outputs": [],
   "source": [
    "vertical_pitch = VerticalPitch(half=True,\n",
    "                               # here we remove some of the pitch on the left/ right/ bottom\n",
    "                               pad_top=0.05, pad_right=-15, pad_bottom=-20, pad_left=-15,\n",
    "                               goal_type='line')\n",
    "\n",
    "fig, axs = vertical_pitch.jointgrid(figheight=10, left=None, bottom=None,  # center aligned\n",
    "                                    grid_width=0.95, marginal=0.1,\n",
    "                                    # setting up the heights/space so it takes up 95% of the figure\n",
    "                                    grid_height=0.80,\n",
    "                                    title_height=0.1, endnote_height=0.03,\n",
    "                                    title_space=0.01, endnote_space=0.01,\n",
    "                                    axis=False,  # turn off title/ endnote/ marginal axes\n",
    "                                    # here we filter out the left and top marginal axes\n",
    "                                    ax_top=False, ax_bottom=True,\n",
    "                                    ax_left=False, ax_right=True)\n",
    "\n",
    "# typical shot map where the scatter points vary by the expected goals value\n",
    "# using alpha for transparency as there are a lot of shots stacked around the six-yard box\n",
    "sc_team2 = vertical_pitch.scatter(arsenal_shot_df['location_x'], arsenal_shot_df['location_y'], s=arsenal_shot_df['shot_statsbomb_xg'] * 700,\n",
    "                                  alpha=0.5, ec='black', color='#063672', ax=axs['pitch'])\n",
    "# kdeplots on the marginals\n",
    "# remember to flip the coordinates y=x, x=y for the marginals when using vertical orientation\n",
    "team2_hist_x = sns.histplot(y=arsenal_non_goal_df['location_x'], ax=axs['right'], color='#9C824A')\n",
    "team2_hist_y = sns.histplot(x=arsenal_non_goal_df['location_y'], ax=axs['bottom'], color='#9C824A')\n",
    "team2_hist_x = sns.histplot(y=arsenal_goal_df['location_x'], ax=axs['right'], color='#DB0007')\n",
    "team2_hist_y = sns.histplot(x=arsenal_goal_df['location_y'], ax=axs['bottom'], color='#DB0007')\n",
    "\n",
    "# titles and endnote\n",
    "axs['title'].text(0.5, 0.7, \"Arsenal '03/'04 Shot Distribution\", color='#EF0107',\n",
    "                  fontproperties=fm_rubik.prop, fontsize=18, ha='center', va='center')\n",
    "axs['title'].text(0.5, 0.3, \"Converted (red) vs. Not Converted (gold)\", color='#EF0107',\n",
    "                  fontproperties=fm_rubik.prop, fontsize=12, ha='center', va='center')\n",
    "\n",
    "plt.show()  # If you are using a Jupyter notebook you do not need this line"
   ]
  }
 ],
 "metadata": {
  "interpreter": {
   "hash": "1b51f8d25deed5bc6e36ed276154e4f544ef07f3564bb000bbe55172bfec9e7b"
  },
  "kernelspec": {
   "display_name": "Python 3.8.8 ('base')",
   "language": "python",
   "name": "python3"
  },
  "language_info": {
   "codemirror_mode": {
    "name": "ipython",
    "version": 3
   },
   "file_extension": ".py",
   "mimetype": "text/x-python",
   "name": "python",
   "nbconvert_exporter": "python",
   "pygments_lexer": "ipython3",
   "version": "3.8.8"
  },
  "orig_nbformat": 4
 },
 "nbformat": 4,
 "nbformat_minor": 2
}
