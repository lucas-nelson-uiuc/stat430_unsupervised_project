{
 "cells": [
  {
   "cell_type": "markdown",
   "metadata": {},
   "source": [
    "## **STAT 430 Final Project**\n",
    "\n",
    "> Author: **Lucas Nelson**\n",
    "\n",
    "> Date: **TBD**\n",
    "\n",
    "Soccer analytics is a growing field that many clubs invest a great deal of resources into because of the potential gain in understanding a team can gather of itself and and its oponents. Such analyses have allowed teams to eliminate the influence of monetary differences on match outcomes and have given fans new insights into team and player performances that are not easily noticed during matchtime.\n",
    "\n",
    "In this project, I aim to design player vectors that describe a player's offensive tendencies while in control of the ball. Using event stream data (provided by StatsBomb OpenAccess) of the 2003/2004 Premier League season, I map a player's offensive actions to uniformly distributed grids on a soccer pitch to generate a player's heatmap. I then apply Non-negative Matrix Factorization (NMF) on the heatmap to cluster the grids on the pitch as well as the Arsenal players to learn more about which areas of the pitch specific actions occur as well as which players are committing said actions.\n",
    "\n",
    "The following analysis includes a brief introduction to the dataset, including the differences between competitions as well as the challenges in working with event stream data. We then convert our match-by-match data into player-by-player heatmaps such that we can cluster our results for reasons stated above. Finally, we interpret our results and talk about the next steps for a similar analysis."
   ]
  },
  {
   "cell_type": "markdown",
   "metadata": {},
   "source": [
    "---\n",
    "---\n",
    "\n",
    "### 00. Imported Libraries"
   ]
  },
  {
   "cell_type": "code",
   "execution_count": 1,
   "metadata": {},
   "outputs": [],
   "source": [
    "# data processing libraries\n",
    "import pandas as pd\n",
    "import numpy as np\n",
    "\n",
    "# clustering, dimension-reduction algorithms\n",
    "from sklearn.decomposition import NMF\n",
    "from sklearn.manifold import TSNE\n",
    "\n",
    "# soccer data gathering library\n",
    "from statsbombpy import sb\n",
    "\n",
    "# various plotting libraries\n",
    "import matplotlib.pyplot as plt\n",
    "import seaborn as sns\n",
    "sns.set(rc={'figure.figsize':(11.7,8.27)})\n",
    "from mplsoccer import Pitch, VerticalPitch, FontManager\n",
    "from scipy.ndimage import gaussian_filter\n",
    "\n",
    "# filter non-useful warnings\n",
    "from warnings import filterwarnings\n",
    "from statsbombpy.api_client import NoAuthWarning\n",
    "filterwarnings('ignore', category=NoAuthWarning)\n",
    "filterwarnings('ignore', category=FutureWarning)\n",
    "\n",
    "# functions designed for this project - see\n",
    "# project repository to learn more about these\n",
    "# created functions\n",
    "import proj_functions as pf"
   ]
  },
  {
   "cell_type": "markdown",
   "metadata": {},
   "source": [
    "---\n",
    "\n",
    "#### 01. About the Dataset\n",
    "\n",
    "Data for this project is provided by StatsBomb's OpenAccess platform. Within the dataset are a list of domestic, national, and international competitions for both male and female soccer clubs. These competitions range from regular season play within a country (e.g., Premier League (English), La Liga (Spanish)) to tournaments across various countries (e.g., Champions League (European), Women's World Cup (international)), consisting of one or many matches depending on the format of the competition as well as - unfortunately - the amount of data provided by StatsBomb.\n",
    "\n",
    "The table below breaks down the different ways a competition is categorized, including where the competition is held, which gender competes in it, the name of the competition, and which season the data is available for, as well as the number of matches available for said season."
   ]
  },
  {
   "cell_type": "code",
   "execution_count": 173,
   "metadata": {},
   "outputs": [],
   "source": [
    "# gather all competitions provided in OpenAccess\n",
    "all_comps = sb.competitions()\n",
    "\n",
    "# catch-all for later merger\n",
    "comps = []\n",
    "seasons = []\n",
    "num_matches = []\n",
    "\n",
    "# populate lists with competition, season, number-of-matches pairs\n",
    "for idx, season_info in all_comps[['competition_id', 'season_id', 'competition_name']].iterrows():\n",
    "    try:\n",
    "        temp_df = sb.matches(competition_id=season_info['competition_id'], season_id=season_info['season_id'])\n",
    "        comps.append(all_comps.loc[idx, 'competition_name'])\n",
    "        seasons.append(all_comps.loc[idx, 'season_name'])\n",
    "        num_matches.append(temp_df.shape[0])\n",
    "    except:\n",
    "        comps.append(all_comps.loc[idx, 'competition_name'])\n",
    "        seasons.append(all_comps.loc[idx, 'season_name'])\n",
    "        num_matches.append(0)"
   ]
  },
  {
   "cell_type": "code",
   "execution_count": 174,
   "metadata": {},
   "outputs": [],
   "source": [
    "# update all_comps to include number of matches in given season\n",
    "updated_comps = pd.merge(\n",
    "    all_comps,\n",
    "    pd.DataFrame({\n",
    "    'competition_name':comps,\n",
    "    'season_name':seasons,\n",
    "    'num_matches':num_matches\n",
    "    }),\n",
    "    on=['competition_name', 'season_name']\n",
    ")"
   ]
  },
  {
   "cell_type": "code",
   "execution_count": 175,
   "metadata": {},
   "outputs": [
    {
     "data": {
      "text/html": [
       "<div>\n",
       "<style scoped>\n",
       "    .dataframe tbody tr th:only-of-type {\n",
       "        vertical-align: middle;\n",
       "    }\n",
       "\n",
       "    .dataframe tbody tr th {\n",
       "        vertical-align: top;\n",
       "    }\n",
       "\n",
       "    .dataframe thead th {\n",
       "        text-align: right;\n",
       "    }\n",
       "</style>\n",
       "<table border=\"1\" class=\"dataframe\">\n",
       "  <thead>\n",
       "    <tr style=\"text-align: right;\">\n",
       "      <th></th>\n",
       "      <th></th>\n",
       "      <th></th>\n",
       "      <th></th>\n",
       "      <th>num_matches</th>\n",
       "    </tr>\n",
       "    <tr>\n",
       "      <th>country_name</th>\n",
       "      <th>competition_gender</th>\n",
       "      <th>competition_name</th>\n",
       "      <th>season_name</th>\n",
       "      <th></th>\n",
       "    </tr>\n",
       "  </thead>\n",
       "  <tbody>\n",
       "    <tr>\n",
       "      <th rowspan=\"4\" valign=\"top\">England</th>\n",
       "      <th rowspan=\"3\" valign=\"top\">female</th>\n",
       "      <th rowspan=\"3\" valign=\"top\">FA Women's Super League</th>\n",
       "      <th>2018/2019</th>\n",
       "      <td>108</td>\n",
       "    </tr>\n",
       "    <tr>\n",
       "      <th>2019/2020</th>\n",
       "      <td>87</td>\n",
       "    </tr>\n",
       "    <tr>\n",
       "      <th>2020/2021</th>\n",
       "      <td>131</td>\n",
       "    </tr>\n",
       "    <tr>\n",
       "      <th>male</th>\n",
       "      <th>Premier League</th>\n",
       "      <th>2003/2004</th>\n",
       "      <td>33</td>\n",
       "    </tr>\n",
       "    <tr>\n",
       "      <th rowspan=\"16\" valign=\"top\">Europe</th>\n",
       "      <th rowspan=\"16\" valign=\"top\">male</th>\n",
       "      <th rowspan=\"15\" valign=\"top\">Champions League</th>\n",
       "      <th>1999/2000</th>\n",
       "      <td>0</td>\n",
       "    </tr>\n",
       "    <tr>\n",
       "      <th>2003/2004</th>\n",
       "      <td>1</td>\n",
       "    </tr>\n",
       "    <tr>\n",
       "      <th>2004/2005</th>\n",
       "      <td>1</td>\n",
       "    </tr>\n",
       "    <tr>\n",
       "      <th>2006/2007</th>\n",
       "      <td>1</td>\n",
       "    </tr>\n",
       "    <tr>\n",
       "      <th>2008/2009</th>\n",
       "      <td>1</td>\n",
       "    </tr>\n",
       "    <tr>\n",
       "      <th>2009/2010</th>\n",
       "      <td>1</td>\n",
       "    </tr>\n",
       "    <tr>\n",
       "      <th>2010/2011</th>\n",
       "      <td>1</td>\n",
       "    </tr>\n",
       "    <tr>\n",
       "      <th>2011/2012</th>\n",
       "      <td>1</td>\n",
       "    </tr>\n",
       "    <tr>\n",
       "      <th>2012/2013</th>\n",
       "      <td>1</td>\n",
       "    </tr>\n",
       "    <tr>\n",
       "      <th>2013/2014</th>\n",
       "      <td>1</td>\n",
       "    </tr>\n",
       "    <tr>\n",
       "      <th>2014/2015</th>\n",
       "      <td>1</td>\n",
       "    </tr>\n",
       "    <tr>\n",
       "      <th>2015/2016</th>\n",
       "      <td>1</td>\n",
       "    </tr>\n",
       "    <tr>\n",
       "      <th>2016/2017</th>\n",
       "      <td>1</td>\n",
       "    </tr>\n",
       "    <tr>\n",
       "      <th>2017/2018</th>\n",
       "      <td>1</td>\n",
       "    </tr>\n",
       "    <tr>\n",
       "      <th>2018/2019</th>\n",
       "      <td>1</td>\n",
       "    </tr>\n",
       "    <tr>\n",
       "      <th>UEFA Euro</th>\n",
       "      <th>2020</th>\n",
       "      <td>51</td>\n",
       "    </tr>\n",
       "    <tr>\n",
       "      <th rowspan=\"2\" valign=\"top\">International</th>\n",
       "      <th>female</th>\n",
       "      <th>Women's World Cup</th>\n",
       "      <th>2019</th>\n",
       "      <td>52</td>\n",
       "    </tr>\n",
       "    <tr>\n",
       "      <th>male</th>\n",
       "      <th>FIFA World Cup</th>\n",
       "      <th>2018</th>\n",
       "      <td>64</td>\n",
       "    </tr>\n",
       "    <tr>\n",
       "      <th rowspan=\"17\" valign=\"top\">Spain</th>\n",
       "      <th rowspan=\"17\" valign=\"top\">male</th>\n",
       "      <th rowspan=\"17\" valign=\"top\">La Liga</th>\n",
       "      <th>2004/2005</th>\n",
       "      <td>7</td>\n",
       "    </tr>\n",
       "    <tr>\n",
       "      <th>2005/2006</th>\n",
       "      <td>17</td>\n",
       "    </tr>\n",
       "    <tr>\n",
       "      <th>2006/2007</th>\n",
       "      <td>26</td>\n",
       "    </tr>\n",
       "    <tr>\n",
       "      <th>2007/2008</th>\n",
       "      <td>28</td>\n",
       "    </tr>\n",
       "    <tr>\n",
       "      <th>2008/2009</th>\n",
       "      <td>31</td>\n",
       "    </tr>\n",
       "    <tr>\n",
       "      <th>2009/2010</th>\n",
       "      <td>35</td>\n",
       "    </tr>\n",
       "    <tr>\n",
       "      <th>2010/2011</th>\n",
       "      <td>33</td>\n",
       "    </tr>\n",
       "    <tr>\n",
       "      <th>2011/2012</th>\n",
       "      <td>37</td>\n",
       "    </tr>\n",
       "    <tr>\n",
       "      <th>2012/2013</th>\n",
       "      <td>32</td>\n",
       "    </tr>\n",
       "    <tr>\n",
       "      <th>2013/2014</th>\n",
       "      <td>31</td>\n",
       "    </tr>\n",
       "    <tr>\n",
       "      <th>2014/2015</th>\n",
       "      <td>38</td>\n",
       "    </tr>\n",
       "    <tr>\n",
       "      <th>2015/2016</th>\n",
       "      <td>33</td>\n",
       "    </tr>\n",
       "    <tr>\n",
       "      <th>2016/2017</th>\n",
       "      <td>34</td>\n",
       "    </tr>\n",
       "    <tr>\n",
       "      <th>2017/2018</th>\n",
       "      <td>36</td>\n",
       "    </tr>\n",
       "    <tr>\n",
       "      <th>2018/2019</th>\n",
       "      <td>34</td>\n",
       "    </tr>\n",
       "    <tr>\n",
       "      <th>2019/2020</th>\n",
       "      <td>33</td>\n",
       "    </tr>\n",
       "    <tr>\n",
       "      <th>2020/2021</th>\n",
       "      <td>35</td>\n",
       "    </tr>\n",
       "    <tr>\n",
       "      <th>United States of America</th>\n",
       "      <th>female</th>\n",
       "      <th>NWSL</th>\n",
       "      <th>2018</th>\n",
       "      <td>36</td>\n",
       "    </tr>\n",
       "  </tbody>\n",
       "</table>\n",
       "</div>"
      ],
      "text/plain": [
       "                                                                                 num_matches\n",
       "country_name             competition_gender competition_name        season_name             \n",
       "England                  female             FA Women's Super League 2018/2019            108\n",
       "                                                                    2019/2020             87\n",
       "                                                                    2020/2021            131\n",
       "                         male               Premier League          2003/2004             33\n",
       "Europe                   male               Champions League        1999/2000              0\n",
       "                                                                    2003/2004              1\n",
       "                                                                    2004/2005              1\n",
       "                                                                    2006/2007              1\n",
       "                                                                    2008/2009              1\n",
       "                                                                    2009/2010              1\n",
       "                                                                    2010/2011              1\n",
       "                                                                    2011/2012              1\n",
       "                                                                    2012/2013              1\n",
       "                                                                    2013/2014              1\n",
       "                                                                    2014/2015              1\n",
       "                                                                    2015/2016              1\n",
       "                                                                    2016/2017              1\n",
       "                                                                    2017/2018              1\n",
       "                                                                    2018/2019              1\n",
       "                                            UEFA Euro               2020                  51\n",
       "International            female             Women's World Cup       2019                  52\n",
       "                         male               FIFA World Cup          2018                  64\n",
       "Spain                    male               La Liga                 2004/2005              7\n",
       "                                                                    2005/2006             17\n",
       "                                                                    2006/2007             26\n",
       "                                                                    2007/2008             28\n",
       "                                                                    2008/2009             31\n",
       "                                                                    2009/2010             35\n",
       "                                                                    2010/2011             33\n",
       "                                                                    2011/2012             37\n",
       "                                                                    2012/2013             32\n",
       "                                                                    2013/2014             31\n",
       "                                                                    2014/2015             38\n",
       "                                                                    2015/2016             33\n",
       "                                                                    2016/2017             34\n",
       "                                                                    2017/2018             36\n",
       "                                                                    2018/2019             34\n",
       "                                                                    2019/2020             33\n",
       "                                                                    2020/2021             35\n",
       "United States of America female             NWSL                    2018                  36"
      ]
     },
     "execution_count": 175,
     "metadata": {},
     "output_type": "execute_result"
    }
   ],
   "source": [
    "# output number of matches per country-gender-competition-season pair\n",
    "updated_comps.groupby(['country_name', 'competition_gender', 'competition_name', 'season_name']).agg({'num_matches':'mean'}).astype('int')"
   ]
  },
  {
   "cell_type": "markdown",
   "metadata": {},
   "source": [
    "For this project, we will be focusing on the single Premier League season, the 2003/2004 season where Arsenal famously earned themselves the nickname \"The Invincibles\" for finishing the season as undefeated champions. (Remember, soccer matches have three possible outcomes: win, draw, loss.) Even though we only have access to 33 of the 38 matches Arsenal competed in that season, we can still make a meaningful analysis out of The Invincibles campaign."
   ]
  },
  {
   "cell_type": "markdown",
   "metadata": {},
   "source": [
    "---\n",
    "---\n",
    "### 01. Filtering Play-by-Play Data per Match"
   ]
  },
  {
   "cell_type": "markdown",
   "metadata": {},
   "source": [
    "Using the appropriate `competiion_id` and `season_id` keys, let's access the dataframe we want. As we'll see, each row corresponds to a single match between Arsenal and another English club. There is match specific information (when/where the match was played, names of each club's managers (coaches), etc.) as well as data specific information (date last updated, version for shot/tracking data, etc.)."
   ]
  },
  {
   "cell_type": "code",
   "execution_count": 2,
   "metadata": {},
   "outputs": [
    {
     "data": {
      "text/html": [
       "<div>\n",
       "<style scoped>\n",
       "    .dataframe tbody tr th:only-of-type {\n",
       "        vertical-align: middle;\n",
       "    }\n",
       "\n",
       "    .dataframe tbody tr th {\n",
       "        vertical-align: top;\n",
       "    }\n",
       "\n",
       "    .dataframe thead th {\n",
       "        text-align: right;\n",
       "    }\n",
       "</style>\n",
       "<table border=\"1\" class=\"dataframe\">\n",
       "  <thead>\n",
       "    <tr style=\"text-align: right;\">\n",
       "      <th></th>\n",
       "      <th>match_id</th>\n",
       "      <th>match_date</th>\n",
       "      <th>kick_off</th>\n",
       "      <th>competition</th>\n",
       "      <th>season</th>\n",
       "      <th>home_team</th>\n",
       "      <th>away_team</th>\n",
       "      <th>home_score</th>\n",
       "      <th>away_score</th>\n",
       "      <th>match_status</th>\n",
       "      <th>...</th>\n",
       "      <th>last_updated</th>\n",
       "      <th>last_updated_360</th>\n",
       "      <th>match_week</th>\n",
       "      <th>competition_stage</th>\n",
       "      <th>stadium</th>\n",
       "      <th>home_managers</th>\n",
       "      <th>away_managers</th>\n",
       "      <th>data_version</th>\n",
       "      <th>shot_fidelity_version</th>\n",
       "      <th>xy_fidelity_version</th>\n",
       "    </tr>\n",
       "  </thead>\n",
       "  <tbody>\n",
       "    <tr>\n",
       "      <th>0</th>\n",
       "      <td>3749493</td>\n",
       "      <td>2003-08-16</td>\n",
       "      <td>16:00:00.000</td>\n",
       "      <td>England - Premier League</td>\n",
       "      <td>2003/2004</td>\n",
       "      <td>Arsenal</td>\n",
       "      <td>Everton</td>\n",
       "      <td>2</td>\n",
       "      <td>1</td>\n",
       "      <td>available</td>\n",
       "      <td>...</td>\n",
       "      <td>2020-07-29T05:00</td>\n",
       "      <td>2021-06-13T16:17:31.694</td>\n",
       "      <td>1</td>\n",
       "      <td>Regular Season</td>\n",
       "      <td>Highbury Stadium</td>\n",
       "      <td>Arsène Wenger</td>\n",
       "      <td>David Moyes</td>\n",
       "      <td>1.1.0</td>\n",
       "      <td>2</td>\n",
       "      <td>2</td>\n",
       "    </tr>\n",
       "    <tr>\n",
       "      <th>1</th>\n",
       "      <td>3749358</td>\n",
       "      <td>2003-08-24</td>\n",
       "      <td>17:05:00.000</td>\n",
       "      <td>England - Premier League</td>\n",
       "      <td>2003/2004</td>\n",
       "      <td>Middlesbrough</td>\n",
       "      <td>Arsenal</td>\n",
       "      <td>0</td>\n",
       "      <td>4</td>\n",
       "      <td>available</td>\n",
       "      <td>...</td>\n",
       "      <td>2020-07-29T05:00</td>\n",
       "      <td>2021-06-13T16:17:31.694</td>\n",
       "      <td>1</td>\n",
       "      <td>Regular Season</td>\n",
       "      <td>Riverside Stadium</td>\n",
       "      <td>Steve McClaren</td>\n",
       "      <td>Arsène Wenger</td>\n",
       "      <td>1.1.0</td>\n",
       "      <td>2</td>\n",
       "      <td>2</td>\n",
       "    </tr>\n",
       "    <tr>\n",
       "      <th>2</th>\n",
       "      <td>3749454</td>\n",
       "      <td>2003-08-31</td>\n",
       "      <td>17:05:00.000</td>\n",
       "      <td>England - Premier League</td>\n",
       "      <td>2003/2004</td>\n",
       "      <td>Manchester City</td>\n",
       "      <td>Arsenal</td>\n",
       "      <td>1</td>\n",
       "      <td>2</td>\n",
       "      <td>available</td>\n",
       "      <td>...</td>\n",
       "      <td>2020-07-29T05:00</td>\n",
       "      <td>2021-06-13T16:17:31.694</td>\n",
       "      <td>1</td>\n",
       "      <td>Regular Season</td>\n",
       "      <td>Etihad Stadium</td>\n",
       "      <td>Kevin Joseph Keegan</td>\n",
       "      <td>Arsène Wenger</td>\n",
       "      <td>1.1.0</td>\n",
       "      <td>2</td>\n",
       "      <td>2</td>\n",
       "    </tr>\n",
       "  </tbody>\n",
       "</table>\n",
       "<p>3 rows × 21 columns</p>\n",
       "</div>"
      ],
      "text/plain": [
       "   match_id  match_date      kick_off               competition     season  \\\n",
       "0   3749493  2003-08-16  16:00:00.000  England - Premier League  2003/2004   \n",
       "1   3749358  2003-08-24  17:05:00.000  England - Premier League  2003/2004   \n",
       "2   3749454  2003-08-31  17:05:00.000  England - Premier League  2003/2004   \n",
       "\n",
       "         home_team away_team  home_score  away_score match_status  ...  \\\n",
       "0          Arsenal   Everton           2           1    available  ...   \n",
       "1    Middlesbrough   Arsenal           0           4    available  ...   \n",
       "2  Manchester City   Arsenal           1           2    available  ...   \n",
       "\n",
       "       last_updated         last_updated_360 match_week  competition_stage  \\\n",
       "0  2020-07-29T05:00  2021-06-13T16:17:31.694          1     Regular Season   \n",
       "1  2020-07-29T05:00  2021-06-13T16:17:31.694          1     Regular Season   \n",
       "2  2020-07-29T05:00  2021-06-13T16:17:31.694          1     Regular Season   \n",
       "\n",
       "              stadium        home_managers  away_managers data_version  \\\n",
       "0    Highbury Stadium        Arsène Wenger    David Moyes        1.1.0   \n",
       "1  Riverside Stadium        Steve McClaren  Arsène Wenger        1.1.0   \n",
       "2      Etihad Stadium  Kevin Joseph Keegan  Arsène Wenger        1.1.0   \n",
       "\n",
       "  shot_fidelity_version xy_fidelity_version  \n",
       "0                     2                   2  \n",
       "1                     2                   2  \n",
       "2                     2                   2  \n",
       "\n",
       "[3 rows x 21 columns]"
      ]
     },
     "execution_count": 2,
     "metadata": {},
     "output_type": "execute_result"
    }
   ],
   "source": [
    "invincibles_df = sb.matches(competition_id=2, season_id=44).sort_values('match_date').reset_index(drop=True)\n",
    "invincibles_df.head(3)"
   ]
  },
  {
   "cell_type": "markdown",
   "metadata": {},
   "source": [
    "Let's loop over each `match_id` and gather the event stream dataframe for that match. Each corresponding dataframe will include all on-ball and off-ball actions committed throughout a match, where on-ball actions include shots, passes, dribbles, etc., and off-ball actions include start/end of match, substitutions, yellow/red cards, etc.\n",
    "\n",
    "Since we only want to design player vectors that are offensive-oriented, we'll gather on-ball actions that involve a shot, pass, dribble, or cross. After filtering for these actions, we'll gather corresponding variables for each type (broadly speaking, when the action occurred, where on the pitch the action occurred, and the outcome of the action). This will all be stored in `master_df`."
   ]
  },
  {
   "cell_type": "code",
   "execution_count": 3,
   "metadata": {},
   "outputs": [
    {
     "name": "stdout",
     "output_type": "stream",
     "text": [
      "Shape (rows, cols) -> (18714, 20)\n"
     ]
    },
    {
     "data": {
      "text/html": [
       "<div>\n",
       "<style scoped>\n",
       "    .dataframe tbody tr th:only-of-type {\n",
       "        vertical-align: middle;\n",
       "    }\n",
       "\n",
       "    .dataframe tbody tr th {\n",
       "        vertical-align: top;\n",
       "    }\n",
       "\n",
       "    .dataframe thead th {\n",
       "        text-align: right;\n",
       "    }\n",
       "</style>\n",
       "<table border=\"1\" class=\"dataframe\">\n",
       "  <thead>\n",
       "    <tr style=\"text-align: right;\">\n",
       "      <th></th>\n",
       "      <th>player</th>\n",
       "      <th>type</th>\n",
       "      <th>pass_outcome</th>\n",
       "      <th>pass_cross</th>\n",
       "      <th>pass_goal_assist</th>\n",
       "      <th>pass_shot_assist</th>\n",
       "      <th>pass_through_ball</th>\n",
       "      <th>pass_technique</th>\n",
       "      <th>shot_outcome</th>\n",
       "      <th>shot_statsbomb_xg</th>\n",
       "      <th>shot_technique</th>\n",
       "      <th>shot_type</th>\n",
       "      <th>dribble_outcome</th>\n",
       "      <th>match_id</th>\n",
       "      <th>minute</th>\n",
       "      <th>second</th>\n",
       "      <th>location_x</th>\n",
       "      <th>location_y</th>\n",
       "      <th>pass_end_x</th>\n",
       "      <th>pass_end_y</th>\n",
       "    </tr>\n",
       "  </thead>\n",
       "  <tbody>\n",
       "    <tr>\n",
       "      <th>0</th>\n",
       "      <td>Sylvain Wiltord</td>\n",
       "      <td>Pass</td>\n",
       "      <td>NaN</td>\n",
       "      <td>NaN</td>\n",
       "      <td>NaN</td>\n",
       "      <td>NaN</td>\n",
       "      <td>NaN</td>\n",
       "      <td>NaN</td>\n",
       "      <td>NaN</td>\n",
       "      <td>NaN</td>\n",
       "      <td>NaN</td>\n",
       "      <td>NaN</td>\n",
       "      <td>NaN</td>\n",
       "      <td>3749493</td>\n",
       "      <td>0</td>\n",
       "      <td>0</td>\n",
       "      <td>60.0</td>\n",
       "      <td>40.0</td>\n",
       "      <td>49.4</td>\n",
       "      <td>36.1</td>\n",
       "    </tr>\n",
       "    <tr>\n",
       "      <th>1</th>\n",
       "      <td>Patrick Vieira</td>\n",
       "      <td>Pass</td>\n",
       "      <td>NaN</td>\n",
       "      <td>NaN</td>\n",
       "      <td>NaN</td>\n",
       "      <td>NaN</td>\n",
       "      <td>NaN</td>\n",
       "      <td>NaN</td>\n",
       "      <td>NaN</td>\n",
       "      <td>NaN</td>\n",
       "      <td>NaN</td>\n",
       "      <td>NaN</td>\n",
       "      <td>NaN</td>\n",
       "      <td>3749493</td>\n",
       "      <td>0</td>\n",
       "      <td>2</td>\n",
       "      <td>49.0</td>\n",
       "      <td>35.9</td>\n",
       "      <td>46.1</td>\n",
       "      <td>68.9</td>\n",
       "    </tr>\n",
       "    <tr>\n",
       "      <th>2</th>\n",
       "      <td>Laureano Bisan-Etame Mayer</td>\n",
       "      <td>Pass</td>\n",
       "      <td>NaN</td>\n",
       "      <td>NaN</td>\n",
       "      <td>NaN</td>\n",
       "      <td>NaN</td>\n",
       "      <td>NaN</td>\n",
       "      <td>NaN</td>\n",
       "      <td>NaN</td>\n",
       "      <td>NaN</td>\n",
       "      <td>NaN</td>\n",
       "      <td>NaN</td>\n",
       "      <td>NaN</td>\n",
       "      <td>3749493</td>\n",
       "      <td>0</td>\n",
       "      <td>5</td>\n",
       "      <td>46.7</td>\n",
       "      <td>68.9</td>\n",
       "      <td>54.5</td>\n",
       "      <td>73.4</td>\n",
       "    </tr>\n",
       "  </tbody>\n",
       "</table>\n",
       "</div>"
      ],
      "text/plain": [
       "                       player  type pass_outcome pass_cross pass_goal_assist  \\\n",
       "0             Sylvain Wiltord  Pass          NaN        NaN              NaN   \n",
       "1              Patrick Vieira  Pass          NaN        NaN              NaN   \n",
       "2  Laureano Bisan-Etame Mayer  Pass          NaN        NaN              NaN   \n",
       "\n",
       "  pass_shot_assist pass_through_ball pass_technique shot_outcome  \\\n",
       "0              NaN               NaN            NaN          NaN   \n",
       "1              NaN               NaN            NaN          NaN   \n",
       "2              NaN               NaN            NaN          NaN   \n",
       "\n",
       "   shot_statsbomb_xg shot_technique shot_type dribble_outcome  match_id  \\\n",
       "0                NaN            NaN       NaN             NaN   3749493   \n",
       "1                NaN            NaN       NaN             NaN   3749493   \n",
       "2                NaN            NaN       NaN             NaN   3749493   \n",
       "\n",
       "   minute  second location_x location_y pass_end_x pass_end_y  \n",
       "0       0       0       60.0       40.0       49.4       36.1  \n",
       "1       0       2       49.0       35.9       46.1       68.9  \n",
       "2       0       5       46.7       68.9       54.5       73.4  "
      ]
     },
     "execution_count": 3,
     "metadata": {},
     "output_type": "execute_result"
    }
   ],
   "source": [
    "master_df = pd.concat([\n",
    "    pf.preprocessing_events_df(sb.events(match_id=idx))\n",
    "    for idx in invincibles_df['match_id']\n",
    "]).reset_index(drop=True)\n",
    "\n",
    "print(f'Shape (rows, cols) -> {master_df.shape}')\n",
    "master_df.head(3)"
   ]
  },
  {
   "cell_type": "markdown",
   "metadata": {},
   "source": [
    "Wow. Over the 33 matches provided, there were 18,714 combined passes, shots, dribbles, and crosses. And people say soccer is boring ... I'm getting ahead of myself.\n",
    "\n",
    "To create our player vectors, we need to first separate out the actions by `player` to distinguish who did what and by `type` to learn more about how often (and - later on - which grid on the pitch) a player will commit an action. This will be saved in a dictionary for convenient data recollection later on."
   ]
  },
  {
   "cell_type": "code",
   "execution_count": 4,
   "metadata": {},
   "outputs": [],
   "source": [
    "grouped_df = master_df.drop(columns='match_id').groupby(['player', 'type'])"
   ]
  },
  {
   "cell_type": "code",
   "execution_count": 5,
   "metadata": {},
   "outputs": [],
   "source": [
    "player_dict = {player : dict() for player in master_df['player'].unique()}\n",
    "\n",
    "for player_type, type_df in grouped_df:\n",
    "    player_dict[player_type[0]][player_type[1]] = type_df"
   ]
  },
  {
   "cell_type": "markdown",
   "metadata": {},
   "source": [
    "Here we ensure each player has a dataframe for every type, even if they haven't registered an event for said type (e.g., a goalie is most likely not to have registered a shot). This is to avoid future errors in matrix operations due to differing shapes."
   ]
  },
  {
   "cell_type": "code",
   "execution_count": 6,
   "metadata": {},
   "outputs": [],
   "source": [
    "for player in player_dict:\n",
    "    for action in ['Pass', 'Shot', 'Dribble', 'Cross']:\n",
    "        if action not in player_dict[player].keys():\n",
    "            # assign empty vector for player for corresponding action\n",
    "            player_dict[player][action] = pd.DataFrame([player, action, np.nan, np.nan, np.nan, 0, 0, 0, 0, 0, 0, 0]).T\n",
    "            # ensure dimensionals and columns match existing dataframes\n",
    "            player_dict[player][action].columns=['player', 'type', 'shot_outcome', 'dribble_outcome', \n",
    "                'pass_cross', 'shot_statsbomb_xg', 'minute', 'second',\n",
    "                'location_x', 'location_y', 'pass_end_x', 'pass_end_y']"
   ]
  },
  {
   "cell_type": "markdown",
   "metadata": {},
   "source": [
    "---\n",
    "---\n",
    "\n",
    "#### 02. Minute Data\n",
    "\n",
    "Let's gather minutes data per player to scale our player data later on. This is to ensure player vector comparisons are fair."
   ]
  },
  {
   "cell_type": "code",
   "execution_count": 7,
   "metadata": {},
   "outputs": [],
   "source": [
    "time_df = pd.concat([\n",
    "    pf.gather_time_information(sb.events(match_id=idx))\n",
    "    for idx in invincibles_df['match_id']\n",
    "]).reset_index(drop=True)"
   ]
  },
  {
   "cell_type": "code",
   "execution_count": null,
   "metadata": {},
   "outputs": [],
   "source": [
    "time_per_match = time_df.groupby(['player', 'match_id']).agg({'minute': ['min', 'max']})\n",
    "total_minutes_df = pd.DataFrame(time_per_match['minute']['max'] - time_per_match['minute']['min']).reset_index().groupby(['player', 'match_id']).sum().rename(columns={0:'minutes'})\n",
    "total_minutes_dict = total_minutes_df.to_dict()"
   ]
  },
  {
   "cell_type": "markdown",
   "metadata": {},
   "source": [
    "---\n",
    "---\n",
    "\n",
    "#### 03. Aggregate Data for Arsenal\n",
    "\n",
    "With specific player data out of the way, we can move onto player-specific and aggregate team data to learn more about the team as a whole."
   ]
  },
  {
   "cell_type": "code",
   "execution_count": null,
   "metadata": {},
   "outputs": [],
   "source": [
    "f, axs = plt.subplots(nrows=1, ncols=2, sharey=True)\n",
    "sns_df = master_df.groupby(['player', 'type']).agg({'location_x':'count'}).rename(columns={'location_x':'count'}).reset_index()\n",
    "sns_upgrade_df = pd.merge(\n",
    "    sns_df,\n",
    "    total_minutes_df.reset_index('match_id', drop=True).groupby('player').sum().reset_index(),\n",
    "    on='player'\n",
    ")\n",
    "sns_upgrade_df['per_90'] = sns_upgrade_df['count'] * 90 / sns_upgrade_df['minutes']\n",
    "\n",
    "sns.barplot(y='player', x='minutes', color='rosybrown', data=sns_upgrade_df, ax=axs[0])\n",
    "sns.barplot(y='player', x='per_90', hue='type', data=sns_upgrade_df, ax=axs[1])\n",
    "\n",
    "axs[0].set_title('Total Minutes Played')\n",
    "axs[1].set_title('On-ball Actions per 90 Minutes')\n",
    "axs[0].set_xlabel('Minutes')\n",
    "axs[1].set_xlabel('Count')\n",
    "axs[0].set_ylabel('Player')\n",
    "axs[1].set_ylabel('')\n",
    "axs[0].legend([])\n",
    "axs[1].legend(bbox_to_anchor=(1,1), frameon=False)\n",
    "plt.show()"
   ]
  },
  {
   "cell_type": "code",
   "execution_count": null,
   "metadata": {},
   "outputs": [],
   "source": [
    "# arsenal_summary_statistics = pd.concat([\n",
    "#     pf.gather_team_data(idx, sb.events(match_id=idx))\n",
    "#     for idx in invincibles_df['match_id']\n",
    "# ])\n",
    "\n",
    "# updated_summary_statistics = pd.merge(\n",
    "#     arsenal_summary_statistics.reset_index().rename(columns={'index':'match_id'}),\n",
    "#     sb.matches(competition_id=2, season_id=44).sort_values('match_date').reset_index(drop=True),\n",
    "#     on='match_id'\n",
    "# ).iloc[:, :7]\n",
    "\n",
    "# fin_df = pd.melt(\n",
    "#     updated_summary_statistics,\n",
    "#     id_vars=['match_id', 'match_date'],\n",
    "#     value_vars=['dribbles', 'goals', 'passes', 'shots', 'xG']\n",
    "#     ).rename(columns={'variable':'type'})"
   ]
  },
  {
   "cell_type": "code",
   "execution_count": null,
   "metadata": {},
   "outputs": [],
   "source": [
    "f, axs = plt.subplots(nrows=1, ncols=2, sharey=True)\n",
    "sns.scatterplot(y='match_date', x='value', hue='type', style='type', data=fin_df[fin_df['type'].isin(['xG', 'goals'])], ax=axs[0])\n",
    "sns.barplot(y='match_date', x='value', hue='type', data=fin_df[~fin_df['type'].isin(['xG', 'goals', 'passes'])], ax=axs[1])\n",
    "axs[0].set_title('Expected Performance vs Actual Performance')\n",
    "axs[0].set_ylabel('Match Date')\n",
    "axs[0].set_xlabel('Number of Goals')\n",
    "axs[1].set_title('Shot and Dribble Frequency')\n",
    "axs[1].set_ylabel('')\n",
    "axs[1].set_xlabel('Number of Actions')\n",
    "plt.show()"
   ]
  },
  {
   "cell_type": "code",
   "execution_count": null,
   "metadata": {},
   "outputs": [],
   "source": [
    "# arsenal_summary_statistics"
   ]
  },
  {
   "cell_type": "markdown",
   "metadata": {},
   "source": [
    "---\n",
    "---\n",
    "\n",
    "#### 03.5 t-SNE Plots"
   ]
  },
  {
   "cell_type": "code",
   "execution_count": null,
   "metadata": {},
   "outputs": [],
   "source": [
    "# tsne dataframe for shot type\n",
    "master_tsne_shot = master_df[master_df['type'] == 'Shot'][['shot_outcome', 'shot_statsbomb_xg', 'location_x', 'location_y']]\n",
    "master_tsne_shot[['location_x', 'location_y']] = master_tsne_shot[['location_x', 'location_y']].astype('float64')\n",
    "master_tsne_shot['outcome'] = np.where(master_tsne_shot['shot_outcome'] == 'Goal', 'Goal', 'No goal')\n",
    "\n",
    "# tsne dataframe for pass type\n",
    "master_tsne_pass = master_df[master_df['type'] == 'Pass'][['pass_outcome', 'pass_shot_assist', 'pass_technique', 'location_x', 'location_y', 'pass_end_x', 'pass_end_y']]\n",
    "master_tsne_pass[['location_x', 'location_y']] = master_tsne_pass[['location_x', 'location_y']].astype('float64')\n",
    "master_tsne_pass[['pass_end_x', 'pass_end_y']] = master_tsne_pass[['pass_end_x', 'pass_end_y']].astype('float64')\n",
    "master_tsne_pass['outcome'] = np.where(master_df[master_df['type'] == 'Pass']['pass_outcome'].isna(), 'Complete', 'Incomplete')\n",
    "\n",
    "# tsne dataframe for dribble type\n",
    "master_tsne_dribble = master_df[master_df['type'] == 'Dribble'][['dribble_outcome', 'location_x', 'location_y']]\n",
    "master_tsne_dribble[['location_x', 'location_y']] = master_tsne_dribble[['location_x', 'location_y']].astype('float64')\n",
    "\n",
    "# tsne dataframe for cross type\n",
    "master_tsne_cross = master_df[master_df['type'] == 'Cross'][['location_x', 'location_y', 'pass_end_x', 'pass_end_y']]\n",
    "master_tsne_cross[['location_x', 'location_y']] = master_tsne_cross[['location_x', 'location_y']].astype('float64')\n",
    "master_tsne_cross[['pass_end_x', 'pass_end_y']] = master_tsne_cross[['pass_end_x', 'pass_end_y']].astype('float64')\n",
    "master_tsne_cross['outcome'] = np.where(master_df[master_df['type'] == 'Cross']['pass_outcome'].isna(), 'Complete', 'Incomplete')"
   ]
  },
  {
   "cell_type": "markdown",
   "metadata": {},
   "source": [
    "---\n",
    "---\n",
    "\n",
    "#### 3.75. Selecting t-SNE Plots\n",
    "\n",
    "Let's pick our favorite t-SNE plots and try to learn more about them."
   ]
  },
  {
   "cell_type": "markdown",
   "metadata": {},
   "source": [
    "##### **Shot**"
   ]
  },
  {
   "cell_type": "code",
   "execution_count": null,
   "metadata": {},
   "outputs": [
    {
     "ename": "TypeError",
     "evalue": "generate_tsne_subplots() got an unexpected keyword argument 'perps'",
     "output_type": "error",
     "traceback": [
      "\u001b[0;31m---------------------------------------------------------------------------\u001b[0m",
      "\u001b[0;31mTypeError\u001b[0m                                 Traceback (most recent call last)",
      "\u001b[0;32m/var/folders/nf/hnvk59fn3wd92wxfjhbxf2z00000gn/T/ipykernel_19567/1148146144.py\u001b[0m in \u001b[0;36m<module>\u001b[0;34m\u001b[0m\n\u001b[0;32m----> 1\u001b[0;31m f = pf.generate_tsne_subplots(\n\u001b[0m\u001b[1;32m      2\u001b[0m     \u001b[0mmaster_tsne_shot\u001b[0m\u001b[0;34m,\u001b[0m\u001b[0;34m\u001b[0m\u001b[0;34m\u001b[0m\u001b[0m\n\u001b[1;32m      3\u001b[0m     \u001b[0mperps\u001b[0m\u001b[0;34m=\u001b[0m\u001b[0;34m[\u001b[0m\u001b[0;36m5\u001b[0m\u001b[0;34m,\u001b[0m\u001b[0;36m10\u001b[0m\u001b[0;34m,\u001b[0m\u001b[0;36m15\u001b[0m\u001b[0;34m,\u001b[0m\u001b[0;36m20\u001b[0m\u001b[0;34m,\u001b[0m\u001b[0;36m25\u001b[0m\u001b[0;34m,\u001b[0m\u001b[0;36m30\u001b[0m\u001b[0;34m]\u001b[0m\u001b[0;34m,\u001b[0m\u001b[0;34m\u001b[0m\u001b[0;34m\u001b[0m\u001b[0m\n\u001b[1;32m      4\u001b[0m     \u001b[0mdrop_cols\u001b[0m\u001b[0;34m=\u001b[0m\u001b[0;34m[\u001b[0m\u001b[0;34m'shot_outcome'\u001b[0m\u001b[0;34m,\u001b[0m \u001b[0;34m'outcome'\u001b[0m\u001b[0;34m]\u001b[0m\u001b[0;34m\u001b[0m\u001b[0;34m\u001b[0m\u001b[0m\n\u001b[1;32m      5\u001b[0m )\n",
      "\u001b[0;31mTypeError\u001b[0m: generate_tsne_subplots() got an unexpected keyword argument 'perps'"
     ]
    }
   ],
   "source": [
    "f = pf.generate_tsne_subplots(\n",
    "    master_tsne_shot,\n",
    "    perps=[5,10,15,20,25,30],\n",
    "    drop_cols=['shot_outcome', 'outcome']\n",
    ")\n",
    "\n",
    "plt.show()"
   ]
  },
  {
   "cell_type": "code",
   "execution_count": 187,
   "metadata": {},
   "outputs": [
    {
     "data": {
      "image/png": "[encoded data removed]",
      "text/plain": [
       "<Figure size 1152x648 with 12 Axes>"
      ]
     },
     "metadata": {},
     "output_type": "display_data"
    }
   ],
   "source": [
    "f, axs = plt.subplots(nrows=3, ncols=4, figsize=(16,9))\n",
    "for i, perp in enumerate([5,10,15,20,25,30]):\n",
    "    for j, rs in enumerate([95,433]):\n",
    "        tsne = TSNE(n_components=2, perplexity=perp, random_state=rs)\n",
    "        tsne_fit = tsne.fit_transform(master_tsne_shot.drop(columns=['shot_outcome', 'outcome']))\n",
    "        tsne_data = pd.DataFrame(tsne_fit, columns=['x_proj', 'y_proj'])\n",
    "        \n",
    "        sns.scatterplot(x='x_proj', y='y_proj', data=tsne_data, ax=axs[i//2, 2*(i%2) + j%2], legend=False)\n",
    "        \n",
    "        axs[i//2, 2*(i%2) + j%2].set_title(f'perp={perp}, rs={rs}')\n",
    "        axs[i//2, 2*(i%2) + j%2].set_xticks([])\n",
    "        axs[i//2, 2*(i%2) + j%2].set_yticks([])\n",
    "        axs[i//2, 2*(i%2) + j%2].set_xlabel('')\n",
    "        axs[i//2, 2*(i%2) + j%2].set_ylabel('')\n",
    "\n",
    "plt.show()"
   ]
  },
  {
   "cell_type": "code",
   "execution_count": null,
   "metadata": {},
   "outputs": [],
   "source": [
    "perp, rs = 20, 433\n",
    "\n",
    "shot_tsne = TSNE(n_components=2, perplexity=perp, random_state=rs)\n",
    "shot_tsne_fit = tsne.fit_transform(master_tsne_shot.drop(columns=['shot_outcome', 'outcome']))\n",
    "shot_tsne_data = pd.DataFrame(shot_tsne_fit, columns=['x_proj', 'y_proj'])\n",
    "\n",
    "f, axs = plt.subplots(nrows=1, ncols=3, figsize=(18,5))\n",
    "shot_tsne_data['shot_statsbomb_xg'] = master_tsne_shot['shot_statsbomb_xg'].reset_index(drop=True)\n",
    "shot_tsne_data['outcome'] = master_tsne_shot['outcome'].reset_index(drop=True)\n",
    "sns.scatterplot(x='x_proj', y='y_proj', hue='outcome', data=shot_tsne_data, ax=axs[0])\n",
    "sns.scatterplot(x='x_proj', y='y_proj', hue='shot_statsbomb_xg', data=shot_tsne_data, ax=axs[1])\n",
    "sns.scatterplot(x='x_proj', y='y_proj', hue='shot_statsbomb_xg', style='outcome', data=shot_tsne_data, ax=axs[2])\n",
    "axs[0].set_title('t-SNE with Binary Shot Outcome')\n",
    "axs[1].set_title('t-SNE with Expected Goals')\n",
    "axs[2].set_title('t-SNE with Both')\n",
    "plt.show()"
   ]
  },
  {
   "cell_type": "markdown",
   "metadata": {},
   "source": [
    "##### **Pass**"
   ]
  },
  {
   "cell_type": "code",
   "execution_count": null,
   "metadata": {},
   "outputs": [],
   "source": [
    "np.random.seed(12345)\n",
    "samples = np.random.choice(range(master_tsne_pass.shape[0]), size=800, replace=False)\n",
    "master_tsne_pass_sample = master_tsne_pass.iloc[samples, :]"
   ]
  },
  {
   "cell_type": "code",
   "execution_count": null,
   "metadata": {},
   "outputs": [],
   "source": [
    "pf.generate_tsne_subplots(\n",
    "    master_tsne_pass_sample,\n",
    "    perps=[10,20,30,50,70,100],\n",
    "    drop_cols=['outcome', 'pass_outcome', 'pass_shot_assist', 'pass_technique']\n",
    ")\n",
    "\n",
    "# f, axs = plt.subplots(nrows=3, ncols=4, figsize=(16,9))\n",
    "# for i, perp in enumerate([10,20,30,50,70,100]):\n",
    "#     for j, rs in enumerate([95,433]):\n",
    "#         tsne = TSNE(n_components=2, perplexity=perp, random_state=rs)\n",
    "#         tsne_fit = tsne.fit_transform(master_tsne_pass_sample.drop(columns=['outcome', 'pass_outcome', 'pass_shot_assist', 'pass_technique']))\n",
    "#         tsne_data = pd.DataFrame(tsne_fit, columns=['x_proj', 'y_proj'])\n",
    "#         sns.scatterplot(x='x_proj', y='y_proj', data=tsne_data, ax=axs[i//2, 2*(i%2) + j%2])\n",
    "#         axs[i//2, 2*(i%2) + j%2].set_title(f'perp={perp}, rs={rs}')\n",
    "#         axs[i//2, 2*(i%2) + j%2].set_xticks([])\n",
    "#         axs[i//2, 2*(i%2) + j%2].set_yticks([])\n",
    "#         axs[i//2, 2*(i%2) + j%2].set_xlabel('')\n",
    "#         axs[i//2, 2*(i%2) + j%2].set_ylabel('')\n",
    "# plt.show()"
   ]
  },
  {
   "cell_type": "code",
   "execution_count": null,
   "metadata": {},
   "outputs": [],
   "source": [
    "perp, rs = 30, 433\n",
    "\n",
    "pass_tsne = TSNE(n_components=2, perplexity=perp, random_state=rs)\n",
    "pass_tsne_fit = tsne.fit_transform(master_tsne_pass_sample.drop(columns=['outcome', 'pass_outcome', 'pass_shot_assist', 'pass_technique']))\n",
    "pass_tsne_data = pd.DataFrame(pass_tsne_fit, columns=['x_proj', 'y_proj'])\n",
    "\n",
    "f, axs = plt.subplots(nrows=1, ncols=2, figsize=(20,5))\n",
    "pass_tsne_data['outcome'] = master_tsne_pass_sample['outcome'].reset_index(drop=True)\n",
    "pass_tsne_data['shot_assist'] = master_tsne_pass_sample['pass_shot_assist'].reset_index(drop=True).fillna(False)\n",
    "sns.scatterplot(x='x_proj', y='y_proj', hue='outcome', data=pass_tsne_data, ax=axs[0])\n",
    "sns.scatterplot(x='x_proj', y='y_proj', hue='shot_assist', data=pass_tsne_data, ax=axs[1])\n",
    "axs[0].set_title('t-SNE with Pass Outcome')\n",
    "axs[1].set_title('t-SNE with Expected Goals')\n",
    "plt.legend(bbox_to_anchor=(1,1))\n",
    "plt.show()"
   ]
  },
  {
   "cell_type": "markdown",
   "metadata": {},
   "source": [
    "##### **Dribble**"
   ]
  },
  {
   "cell_type": "code",
   "execution_count": null,
   "metadata": {},
   "outputs": [],
   "source": [
    "pf.generate_tsne_subplots(\n",
    "    master_tsne_dribble,\n",
    "    perps=[10,20,30,50,70,100],\n",
    "    drop_cols=['dribble_outcome']\n",
    ")\n",
    "\n",
    "# f, axs = plt.subplots(nrows=3, ncols=4, figsize=(16,9))\n",
    "# for i, perp in enumerate([10,20,30,50,70,100]):\n",
    "#     for j, rs in enumerate([95,433]):\n",
    "#         tsne = TSNE(n_components=2, perplexity=perp, random_state=rs)\n",
    "#         tsne_fit = tsne.fit_transform(master_tsne_dribble.drop(columns='dribble_outcome'))\n",
    "#         tsne_data = pd.DataFrame(tsne_fit, columns=['x_proj', 'y_proj'])\n",
    "#         sns.scatterplot(x='x_proj', y='y_proj', data=tsne_data, ax=axs[i//2, 2*(i%2) + j%2])\n",
    "#         axs[i//2, 2*(i%2) + j%2].set_title(f'perp={perp}, rs={rs}')\n",
    "#         axs[i//2, 2*(i%2) + j%2].set_xticks([])\n",
    "#         axs[i//2, 2*(i%2) + j%2].set_yticks([])\n",
    "#         axs[i//2, 2*(i%2) + j%2].set_xlabel('')\n",
    "#         axs[i//2, 2*(i%2) + j%2].set_ylabel('')\n",
    "# plt.show()"
   ]
  },
  {
   "cell_type": "code",
   "execution_count": null,
   "metadata": {},
   "outputs": [],
   "source": [
    "perp, rs = 20, 433\n",
    "\n",
    "dribble_tsne = TSNE(n_components=2, perplexity=perp, random_state=rs)\n",
    "dribble_tsne_fit = dribble_tsne.fit_transform(master_tsne_dribble.drop(columns='dribble_outcome'))\n",
    "dribble_tsne_data = pd.DataFrame(dribble_tsne_fit, columns=['x_proj', 'y_proj'])\n",
    "\n",
    "dribble_tsne_data['outcome'] = master_tsne_dribble['dribble_outcome'].reset_index(drop=True)\n",
    "sns.scatterplot(x='x_proj', y='y_proj', hue='outcome', data=dribble_tsne_data)\n",
    "plt.legend(bbox_to_anchor=(1,1))\n",
    "plt.show()"
   ]
  },
  {
   "cell_type": "markdown",
   "metadata": {},
   "source": [
    "##### **Cross**"
   ]
  },
  {
   "cell_type": "code",
   "execution_count": null,
   "metadata": {},
   "outputs": [],
   "source": [
    "pf.generate_tsne_subplots(\n",
    "    master_tsne_cross,\n",
    "    perps=[10,20,30,50,70,100],\n",
    "    drop_cols=['outcome']\n",
    ")\n",
    "\n",
    "# f, axs = plt.subplots(nrows=3, ncols=4, figsize=(16,9))\n",
    "# for i, perp in enumerate([10,20,30,50,70,100]):\n",
    "#     for j, rs in enumerate([95,433]):\n",
    "#         tsne = TSNE(n_components=2, perplexity=perp, random_state=rs)\n",
    "#         tsne_fit = tsne.fit_transform(master_tsne_cross.drop(columns='outcome'))\n",
    "#         tsne_data = pd.DataFrame(tsne_fit, columns=['x_proj', 'y_proj'])\n",
    "#         sns.scatterplot(x='x_proj', y='y_proj', data=tsne_data, ax=axs[i//2, 2*(i%2) + j%2])\n",
    "#         axs[i//2, 2*(i%2) + j%2].set_title(f'perp={perp}, rs={rs}')\n",
    "#         axs[i//2, 2*(i%2) + j%2].set_xticks([])\n",
    "#         axs[i//2, 2*(i%2) + j%2].set_yticks([])\n",
    "#         axs[i//2, 2*(i%2) + j%2].set_xlabel('')\n",
    "#         axs[i//2, 2*(i%2) + j%2].set_ylabel('')\n",
    "# plt.show()"
   ]
  },
  {
   "cell_type": "code",
   "execution_count": null,
   "metadata": {},
   "outputs": [],
   "source": [
    "perp, rs = 100, 433\n",
    "cross_tsne = TSNE(n_components=2, perplexity=perp, random_state=rs)\n",
    "cross_tsne_fit = cross_tsne.fit_transform(master_tsne_cross.drop(columns='outcome'))\n",
    "cross_tsne_data = pd.DataFrame(cross_tsne_fit, columns=['x_proj', 'y_proj'])\n",
    "\n",
    "cross_tsne_data['outcome'] = master_tsne_cross['outcome'].reset_index(drop=True)\n",
    "sns.scatterplot(x='x_proj', y='y_proj', hue='outcome', data=cross_tsne_data)\n",
    "plt.show()"
   ]
  },
  {
   "cell_type": "markdown",
   "metadata": {},
   "source": [
    "---\n",
    "---\n",
    "\n",
    "#### 04. Heatmaps to Vectors"
   ]
  },
  {
   "cell_type": "code",
   "execution_count": null,
   "metadata": {},
   "outputs": [],
   "source": [
    "# keys are action types, values will be dataframes containing each player's compressed heatmap\n",
    "nmf_dict = {'Pass':[], 'Shot':[], 'Dribble':[], 'Cross':[]}"
   ]
  },
  {
   "cell_type": "code",
   "execution_count": null,
   "metadata": {},
   "outputs": [],
   "source": [
    "def player_action_heatmap(player, action, nrows=24, ncols=25):\n",
    "    if player not in player_dict:\n",
    "        print(f'Invalid player entry: {player} not found')\n",
    "        return None\n",
    "    if action not in player_dict[player]:\n",
    "        print(f'Invalid action type for {player}: {action} not found')\n",
    "        return None\n",
    "    \n",
    "    player_total_mins = np.sum([total_minutes_dict['minutes'][tup] for tup in total_minutes_dict['minutes'] if tup[0] == player])\n",
    "\n",
    "    heatmap_dict = {'Pass':[], 'Shot':[], 'Dribble':[], 'Cross':[]}\n",
    "    # create empty dataframe of specified dimensions\n",
    "    heatmap_matrix = np.zeros(shape=(nrows, ncols))\n",
    "\n",
    "    # partition the field evenly (could be altered depending on weights\n",
    "    # of different grid patterns on the field)\n",
    "    row_divs = np.round(np.linspace(0, 80, nrows), 2)\n",
    "    col_divs = np.round(np.linspace(0, 120, ncols), 2)\n",
    "\n",
    "    # iterate over rows and assign count to specific cell grid\n",
    "    for _, action in player_dict[player][action][['location_x', 'location_y']].iterrows():\n",
    "        # assign to closest row grid cell and column grid cell\n",
    "        grid_row = np.abs(row_divs - np.float64(action['location_y'])).argmin()\n",
    "        grid_col = np.abs(col_divs - np.float64(action['location_x'])).argmin()\n",
    "        # argmin index out of bounds if closest to upper bound (nrows, ncols)\n",
    "        if grid_row == nrows: grid_row -= 1\n",
    "        if grid_col == ncols: grid_col -= 1\n",
    "        # update corresponding grid cell (of player-action combo) by one adj. 90-min frequency\n",
    "        heatmap_matrix[grid_row, grid_col] += 90 / player_total_mins\n",
    "    \n",
    "    return gaussian_filter(heatmap_matrix, sigma=1.5)"
   ]
  },
  {
   "cell_type": "code",
   "execution_count": null,
   "metadata": {},
   "outputs": [],
   "source": [
    "def compressed_heatmap_matrix(player_action_dict, nrows=24, ncols=25):\n",
    "    nmf_dict = {action:pd.DataFrame([0]*600, index=range(600), columns=['dummy']) for action in ['Pass', 'Dribble', 'Shot', 'Cross']}\n",
    "    \n",
    "    for player in player_action_dict:\n",
    "        for action in player_action_dict[player]:\n",
    "            nmf_dict[action][player] = player_action_heatmap(player, action, nrows, ncols).reshape(1, 600)[0]\n",
    "    \n",
    "    return {action: nmf_dict[action].drop(columns='dummy') for action in ['Pass', 'Dribble', 'Shot', 'Cross']}"
   ]
  },
  {
   "cell_type": "code",
   "execution_count": null,
   "metadata": {},
   "outputs": [],
   "source": [
    "(_, nmf_pass_matrix), (_, nmf_dribble_matrix), (_, nmf_shot_matrix), (_, nmf_cross_matrix) = compressed_heatmap_matrix(player_action_dict=player_dict).items()"
   ]
  },
  {
   "cell_type": "markdown",
   "metadata": {},
   "source": [
    "---\n",
    "---\n",
    "\n",
    "#### 05. Principal Component Analysis"
   ]
  },
  {
   "cell_type": "markdown",
   "metadata": {},
   "source": [
    "... similarity matrix of cluster partitions (then cluster similarity matrix)\n",
    "\n",
    "... PCA not preserving clustering structure\n",
    "\n",
    "... sum variances of W / sum variances of original dataset columns\n",
    "\n",
    "-> keep in mind percentages\n",
    "\n",
    "... are some positions easier to reconstruct than other?"
   ]
  },
  {
   "cell_type": "markdown",
   "metadata": {},
   "source": [
    "---\n",
    "---\n",
    "\n",
    "#### 05.5. Selecting Number of Components"
   ]
  },
  {
   "cell_type": "code",
   "execution_count": null,
   "metadata": {},
   "outputs": [],
   "source": [
    "nmf_shot_rec_err = [\n",
    "    NMF(n_components=n_comps, random_state=100).fit(nmf_shot_matrix).reconstruction_err_\n",
    "    for n_comps in range(1,21)\n",
    "]\n",
    "\n",
    "\n",
    "nmf_pass_rec_err = [\n",
    "    NMF(n_components=n_comps, random_state=100).fit(nmf_pass_matrix).reconstruction_err_\n",
    "    for n_comps in range(1,21)\n",
    "]\n",
    "\n",
    "\n",
    "nmf_dribble_rec_err = [\n",
    "    NMF(n_components=n_comps, random_state=100).fit(nmf_dribble_matrix).reconstruction_err_\n",
    "    for n_comps in range(1,21)\n",
    "]\n",
    "\n",
    "\n",
    "nmf_cross_rec_err = [\n",
    "    NMF(n_components=n_comps, random_state=100).fit(nmf_cross_matrix).reconstruction_err_\n",
    "    for n_comps in range(1,21)\n",
    "]\n",
    "\n",
    "fig, axs = plt.subplots(nrows=2, ncols=2, figsize=(16,9))\n",
    "\n",
    "axs[0,0].plot(range(1,21), nmf_shot_rec_err)\n",
    "axs[0,0].set_title('Rec. Error for Shot')\n",
    "axs[0,1].plot(range(1,21), nmf_pass_rec_err)\n",
    "axs[0,1].set_title('Rec. Error for Pass')\n",
    "axs[1,0].plot(range(1,21), nmf_dribble_rec_err)\n",
    "axs[1,0].set_title('Rec. Error for Dribble')\n",
    "axs[1,1].plot(range(1,21), nmf_cross_rec_err)\n",
    "axs[1,1].set_title('Rec. Error for Cross')\n",
    "\n",
    "plt.show()"
   ]
  },
  {
   "cell_type": "markdown",
   "metadata": {},
   "source": [
    "Something seems off about that `Shot` selection. You're telling me we can explain a player's shooting tendencies using just one principal component? Nah that ain't right.\n",
    "\n",
    "Regardless, seems like we have a couple options we can go with. Since this is a smaller dataset, we can expect the variance to be explained with few player clusters.\n",
    "\n",
    "- Since shots happen so close to goal, of course the variance can be explained in so few (actually, just one) attributes.\n",
    "- On the contrary, dribbles happen all over the pitch and serve many different purposes (whereas shots happen in one position of the pitch and serve one purpose); hence, requiring more components.\n",
    "- Passes and crosses sit between the two for similar reasons.\n",
    "\n",
    "Given that, let's choose our number of components per action type:\n",
    "\n",
    "- Shot: 3 or 4 or 5 (we'll experiement)\n",
    "- Cross: 2\n",
    "- Pass: 4\n",
    "- Dribble: 6\n"
   ]
  },
  {
   "cell_type": "code",
   "execution_count": null,
   "metadata": {},
   "outputs": [],
   "source": [
    "n_shot_components = 6       # recerr: 6\n",
    "n_cross_components = 3      # recerr: 3\n",
    "n_pass_components = 5       # recerr: 5\n",
    "n_dribble_components = 5    # recerr: 5/8"
   ]
  },
  {
   "cell_type": "markdown",
   "metadata": {},
   "source": [
    "---\n",
    "---\n",
    "#### 06. Non-negative Matrix Factoriziation\n",
    "\n",
    "Let's get into the thick of it. We'll start by analyzing each action type and see the results we get."
   ]
  },
  {
   "cell_type": "markdown",
   "metadata": {},
   "source": [
    "##### **Shot Data**"
   ]
  },
  {
   "cell_type": "code",
   "execution_count": null,
   "metadata": {},
   "outputs": [],
   "source": [
    "nmf_shot = NMF(n_components=n_shot_components, random_state=100)\n",
    "nmf_shot_W = pd.DataFrame(nmf_shot.fit_transform(nmf_shot_matrix))\n",
    "nmf_shot_H = pd.DataFrame(nmf_shot.components_, columns=nmf_shot_matrix.columns)\n",
    "nmf_shot_clsmem = nmf_shot_W.apply(lambda x: x / sum(x), axis=1)"
   ]
  },
  {
   "cell_type": "code",
   "execution_count": null,
   "metadata": {},
   "outputs": [],
   "source": [
    "pitch = Pitch(pitch_type='statsbomb', line_zorder=2, pitch_color='#22312b', line_color='#efefef')\n",
    "fig, ax = pitch.draw(nrows=4, ncols=5, figsize=(16,9))\n",
    "\n",
    "for i, player in enumerate(nmf_shot_H.columns):\n",
    "    statistic = np.dot(nmf_shot_W, nmf_shot_H[player].to_numpy()).reshape((24, 25))\n",
    "\n",
    "    # construct stats object from binned data, bin mesh, and bin centers\n",
    "    y, x = statistic.shape\n",
    "    x_grid = np.linspace(0, 120, x + 1)\n",
    "    y_grid = np.linspace(0, 80, y + 1)\n",
    "    cx = x_grid[:-1] + 0.5 * (x_grid[1] - x_grid[0])\n",
    "    cy = y_grid[:-1] + 0.5 * (y_grid[1] - y_grid[0])\n",
    "    stats = dict(statistic=statistic, x_grid=x_grid, y_grid=y_grid, cx=cx, cy=cy)\n",
    "\n",
    "    pcm = pitch.heatmap(stats, ax=ax[i//5, i%5], cmap='mako')\n",
    "    ax[i//5, i%5].set_title(player.title())"
   ]
  },
  {
   "cell_type": "markdown",
   "metadata": {},
   "source": [
    "##### **Cross Data**"
   ]
  },
  {
   "cell_type": "code",
   "execution_count": null,
   "metadata": {},
   "outputs": [],
   "source": [
    "nmf_cross = NMF(n_components=n_cross_components, random_state=100)\n",
    "nmf_cross_W = pd.DataFrame(nmf_cross.fit_transform(nmf_cross_matrix))\n",
    "nmf_cross_H = pd.DataFrame(nmf_cross.components_, columns=nmf_cross_matrix.columns)\n",
    "nmf_cross_clsmem = nmf_cross_W.apply(lambda x: x / sum(x), axis=1)"
   ]
  },
  {
   "cell_type": "code",
   "execution_count": null,
   "metadata": {},
   "outputs": [],
   "source": [
    "pitch = Pitch(pitch_type='statsbomb', line_zorder=2, pitch_color='#22312b', line_color='#efefef')\n",
    "fig, ax = pitch.draw(nrows=4, ncols=5, figsize=(16,9))\n",
    "\n",
    "for i, player in enumerate(nmf_cross_H.columns):\n",
    "    statistic = np.dot(nmf_cross_W, nmf_cross_H[player].to_numpy()).reshape((24, 25))\n",
    "\n",
    "    # construct stats object from binned data, bin mesh, and bin centers\n",
    "    y, x = statistic.shape\n",
    "    x_grid = np.linspace(0, 120, x + 1)\n",
    "    y_grid = np.linspace(0, 80, y + 1)\n",
    "    cx = x_grid[:-1] + 0.5 * (x_grid[1] - x_grid[0])\n",
    "    cy = y_grid[:-1] + 0.5 * (y_grid[1] - y_grid[0])\n",
    "    stats = dict(statistic=statistic, x_grid=x_grid, y_grid=y_grid, cx=cx, cy=cy)\n",
    "\n",
    "    pcm = pitch.heatmap(stats, ax=ax[i//5, i%5], cmap='mako')\n",
    "    ax[i//5, i%5].set_title(player.title())"
   ]
  },
  {
   "cell_type": "markdown",
   "metadata": {},
   "source": [
    "##### **Pass Data**"
   ]
  },
  {
   "cell_type": "code",
   "execution_count": null,
   "metadata": {},
   "outputs": [],
   "source": [
    "nmf_pass = NMF(n_components=n_pass_components, random_state=100)\n",
    "nmf_pass_W = pd.DataFrame(nmf_pass.fit_transform(nmf_pass_matrix))\n",
    "nmf_pass_H = pd.DataFrame(nmf_pass.components_, columns=nmf_pass_matrix.columns)\n",
    "nmf_pass_clsmem = nmf_pass_W.apply(lambda x: x / sum(x), axis=1)"
   ]
  },
  {
   "cell_type": "code",
   "execution_count": null,
   "metadata": {},
   "outputs": [],
   "source": [
    "pitch = Pitch(pitch_type='statsbomb', line_zorder=2, pitch_color='#22312b', line_color='#efefef')\n",
    "fig, ax = pitch.draw(nrows=4, ncols=5, figsize=(16,9))\n",
    "\n",
    "for i, player in enumerate(nmf_pass_H.columns):\n",
    "    statistic = np.dot(nmf_pass_W, nmf_pass_H[player].to_numpy()).reshape((24, 25))\n",
    "\n",
    "    # construct stats object from binned data, bin mesh, and bin centers\n",
    "    y, x = statistic.shape\n",
    "    x_grid = np.linspace(0, 120, x + 1)\n",
    "    y_grid = np.linspace(0, 80, y + 1)\n",
    "    cx = x_grid[:-1] + 0.5 * (x_grid[1] - x_grid[0])\n",
    "    cy = y_grid[:-1] + 0.5 * (y_grid[1] - y_grid[0])\n",
    "    stats = dict(statistic=statistic, x_grid=x_grid, y_grid=y_grid, cx=cx, cy=cy)\n",
    "\n",
    "    pcm = pitch.heatmap(stats, ax=ax[i//5, i%5], cmap='mako')\n",
    "    ax[i//5, i%5].set_title(player.title())"
   ]
  },
  {
   "cell_type": "markdown",
   "metadata": {},
   "source": [
    "##### **Dribble Data**"
   ]
  },
  {
   "cell_type": "code",
   "execution_count": null,
   "metadata": {},
   "outputs": [],
   "source": [
    "nmf_dribble = NMF(n_components=n_dribble_components, random_state=100)\n",
    "nmf_dribble_W = pd.DataFrame(nmf_dribble.fit_transform(nmf_dribble_matrix))\n",
    "nmf_dribble_H = pd.DataFrame(nmf_dribble.components_, columns=nmf_dribble_matrix.columns)\n",
    "nmf_dribble_clsmem = nmf_dribble_W.apply(lambda x: x / sum(x), axis=1)"
   ]
  },
  {
   "cell_type": "code",
   "execution_count": null,
   "metadata": {},
   "outputs": [],
   "source": [
    "pitch = Pitch(pitch_type='statsbomb', line_zorder=2, pitch_color='#22312b', line_color='#efefef')\n",
    "fig, ax = pitch.draw(nrows=4, ncols=5, figsize=(16,9))\n",
    "\n",
    "for i, player in enumerate(nmf_dribble_H.columns):\n",
    "    statistic = np.dot(nmf_dribble_W, nmf_dribble_H[player].to_numpy()).reshape((24, 25))\n",
    "\n",
    "    # construct stats object from binned data, bin mesh, and bin centers\n",
    "    y, x = statistic.shape\n",
    "    x_grid = np.linspace(0, 120, x + 1)\n",
    "    y_grid = np.linspace(0, 80, y + 1)\n",
    "    cx = x_grid[:-1] + 0.5 * (x_grid[1] - x_grid[0])\n",
    "    cy = y_grid[:-1] + 0.5 * (y_grid[1] - y_grid[0])\n",
    "    stats = dict(statistic=statistic, x_grid=x_grid, y_grid=y_grid, cx=cx, cy=cy)\n",
    "\n",
    "    pcm = pitch.heatmap(stats, ax=ax[i//5, i%5], cmap='mako')\n",
    "    ax[i//5, i%5].set_title(player.title())"
   ]
  },
  {
   "cell_type": "markdown",
   "metadata": {},
   "source": [
    "#### Preserved Information of NMF\n",
    "Let's see how well we preserve Thierry Henry's shot heatmap using only four features."
   ]
  },
  {
   "cell_type": "markdown",
   "metadata": {},
   "source": [
    "---\n",
    "---\n",
    "\n",
    "#### 07. Evaluation"
   ]
  },
  {
   "cell_type": "markdown",
   "metadata": {},
   "source": [
    "Let's see what each component looks like."
   ]
  },
  {
   "cell_type": "code",
   "execution_count": null,
   "metadata": {},
   "outputs": [],
   "source": [
    "pitch = Pitch(pitch_type='statsbomb', line_zorder=2, pitch_color='#22312b', line_color='#efefef')\n",
    "\n",
    "for action, nmf_W in zip(\n",
    "    ['Shot', 'Dribble', 'Pass', 'Cross'],\n",
    "    [nmf_shot_W, nmf_dribble_W, nmf_pass_W, nmf_cross_W]\n",
    "    ):\n",
    "\n",
    "    print(f'NMF Components for {action}')\n",
    "    fig, ax = pitch.draw(ncols=nmf_W.shape[1], figsize=(16,9))\n",
    "    \n",
    "    for i in range(nmf_W.shape[1]):\n",
    "        \n",
    "        statistic = np.array(nmf_W.iloc[:, i]).reshape((24, 25))\n",
    "\n",
    "        # construct stats object from binned data, bin mesh, and bin centers\n",
    "        y, x = statistic.shape\n",
    "        x_grid = np.linspace(0, 120, x + 1)\n",
    "        y_grid = np.linspace(0, 80, y + 1)\n",
    "        cx = x_grid[:-1] + 0.5 * (x_grid[1] - x_grid[0])\n",
    "        cy = y_grid[:-1] + 0.5 * (y_grid[1] - y_grid[0])\n",
    "        stats = dict(statistic=statistic, x_grid=x_grid, y_grid=y_grid, cx=cx, cy=cy)\n",
    "\n",
    "        pcm = pitch.heatmap(stats, ax=ax[i], cmap='mako')\n",
    "        ax[i].set_title(f'{action} component #{i+1}')\n",
    "    \n",
    "    plt.show()"
   ]
  },
  {
   "cell_type": "markdown",
   "metadata": {},
   "source": [
    "Let's get some boxplots going in here for specific players. Henry, Bergkamp, Vieira, keeper, defenders. Possibly everyone."
   ]
  },
  {
   "cell_type": "code",
   "execution_count": null,
   "metadata": {},
   "outputs": [],
   "source": [
    "nmf_player_dict = {\n",
    "    player: nmf_shot_H[player].append(nmf_dribble_H[player].append(nmf_pass_H[player].append(nmf_cross_H[player]))).reset_index(drop=True)\n",
    "    for player in player_dict.keys()\n",
    "}"
   ]
  },
  {
   "cell_type": "code",
   "execution_count": null,
   "metadata": {},
   "outputs": [],
   "source": [
    "total_components = sum([n_shot_components, n_dribble_components, n_pass_components, n_cross_components])\n",
    "nmf_component_dict = {}\n",
    "for component in range(total_components):\n",
    "    nmf_component_dict[f'C{component}'] = []\n",
    "    for player in nmf_player_dict:\n",
    "        nmf_component_dict[f'C{component}'].append(nmf_player_dict[player][component])"
   ]
  },
  {
   "cell_type": "code",
   "execution_count": null,
   "metadata": {},
   "outputs": [],
   "source": [
    "X = pd.DataFrame(nmf_component_dict)\n",
    "mod_X = pd.melt(X, value_vars=X.columns, var_name='component')\n",
    "mod_X['player'] = [player for player in player_dict.keys()] * total_components"
   ]
  },
  {
   "cell_type": "code",
   "execution_count": null,
   "metadata": {},
   "outputs": [],
   "source": [
    "sns.set(rc={'figure.figsize':(9,6)})\n",
    "sns.boxplot(x='component', y='value', color='#063672', data=mod_X)\n",
    "sns.stripplot(x='component', y='value', color='#db0007', size=15, data=mod_X[mod_X['player'] == 'Thierry Henry'])"
   ]
  },
  {
   "cell_type": "markdown",
   "metadata": {},
   "source": [
    "---\n",
    "---\n",
    "\n",
    "#### 0x. Finish"
   ]
  },
  {
   "cell_type": "markdown",
   "metadata": {},
   "source": [
    "This bit here is gibberish"
   ]
  },
  {
   "cell_type": "markdown",
   "metadata": {},
   "source": [
    "---\n",
    "---\n",
    "\n",
    "#### **Appendix** [Plotting Data]"
   ]
  },
  {
   "cell_type": "markdown",
   "metadata": {},
   "source": [
    "For fun, we'll strictly gather Thierry Henry's shot, pass, dribble, and cross data to visualize each individual heat map below. This will tell us where on the pitch and how often Henry performs each action."
   ]
  },
  {
   "cell_type": "code",
   "execution_count": null,
   "metadata": {},
   "outputs": [],
   "source": [
    "# maybe"
   ]
  },
  {
   "cell_type": "markdown",
   "metadata": {},
   "source": [
    "---\n",
    "---\n",
    "#### **Appendix** [Trial Experiments]"
   ]
  },
  {
   "cell_type": "markdown",
   "metadata": {},
   "source": [
    "---\n",
    "\n",
    "##### NMF Results"
   ]
  },
  {
   "cell_type": "markdown",
   "metadata": {},
   "source": [
    "---\n",
    "#### Data Extraction"
   ]
  },
  {
   "cell_type": "markdown",
   "metadata": {},
   "source": [
    "###### **COMPONENT WITH HEAVY FAVOR FOR LOCATION<40 IS CONSIDERING BACKPASSES TO KEEPER AND EXTENDED DRIBBLES**"
   ]
  },
  {
   "cell_type": "code",
   "execution_count": null,
   "metadata": {},
   "outputs": [],
   "source": [
    "offensive_df = master_df[master_df['type'].isin(['Pass', 'Shot', 'Dribble', 'Cross'])].copy()\n",
    "offensive_df[['location_x', 'location_y']] = offensive_df[['location_x', 'location_y']].astype('float64')"
   ]
  },
  {
   "cell_type": "code",
   "execution_count": null,
   "metadata": {},
   "outputs": [],
   "source": [
    "pitch = Pitch()\n",
    "fig, ax = pitch.draw(figsize=(14, 12))\n",
    "\n",
    "\n",
    "cross_df = offensive_df[offensive_df['type'] == 'Cross']\n",
    "sc1 = pitch.scatter(cross_df['location_x'], cross_df['location_y'],\n",
    "                   c='#063672',  # color for scatter in hex format\n",
    "                   s=60, marker='P',\n",
    "                   edgecolors='#383838', alpha=0.9,\n",
    "                   ax=ax)\n",
    "\n",
    "dribble_df = offensive_df[offensive_df['type'] == 'Dribble']\n",
    "sc1 = pitch.scatter(dribble_df['location_x'], dribble_df['location_y'],\n",
    "                   c='#063672',  # color for scatter in hex format,\n",
    "                   s=60, marker='>',\n",
    "                   edgecolors='#000000', alpha=0.9,\n",
    "                   ax=ax)\n",
    "\n",
    "pass_df = offensive_df[offensive_df['type'] == 'Pass']\n",
    "sc2 = pitch.scatter(pass_df['location_x'], pass_df['location_y'],\n",
    "                   c='#9C824A',  # color for scatter in hex format\n",
    "                   s=10, marker='.',\n",
    "                   edgecolors='#383838', alpha=0.9,\n",
    "                   ax=ax)\n",
    "\n",
    "shot_df = offensive_df[offensive_df['type'] == 'Shot']\n",
    "sc3 = pitch.scatter(shot_df['location_x'], shot_df['location_y'],\n",
    "                   c='#DB0007',  # color for scatter in hex format\n",
    "                   s=shot_df['shot_statsbomb_xg'] * 900,\n",
    "                   marker='X',\n",
    "                   edgecolors='#383838', alpha=0.9,\n",
    "                   ax=ax)\n",
    "\n",
    "plt.show()  # If you are using a Jupyter notebook you do not need this line"
   ]
  },
  {
   "cell_type": "code",
   "execution_count": null,
   "metadata": {},
   "outputs": [],
   "source": [
    "sns.barplot(x=offensive_df['type'].unique(), y=offensive_df['type'].value_counts(), palette=['#9C824A', '#063672', '#000000', '#DB0007'])\n",
    "plt.show()"
   ]
  },
  {
   "cell_type": "code",
   "execution_count": null,
   "metadata": {},
   "outputs": [],
   "source": [
    "aggresive_df = master_df[(master_df['location_x'].astype('float64') >= 40) & (master_df['type'].isin(['Pass', 'Shot', 'Dribble', 'Cross']))].copy()\n",
    "# aggresive_df = master_df[(master_df['location_x'].astype('float64') <= 24) & (master_df['location_y'].astype('float64') <= 25) & (master_df['type'].isin(['Pass', 'Shot', 'Dribble', 'Cross']))].copy()\n",
    "aggresive_df[['location_x', 'location_y']] = aggresive_df[['location_x', 'location_y']].astype('float64')"
   ]
  },
  {
   "cell_type": "code",
   "execution_count": null,
   "metadata": {},
   "outputs": [],
   "source": [
    "pitch = Pitch()\n",
    "fig, ax = pitch.draw(figsize=(14, 12))\n",
    "\n",
    "\n",
    "cross_df = aggresive_df[aggresive_df['type'] == 'Cross']\n",
    "sc1 = pitch.scatter(cross_df['location_x'], cross_df['location_y'],\n",
    "                   c='#063672',  # color for scatter in hex format\n",
    "                   s=60, marker='P',\n",
    "                   edgecolors='#383838', alpha=0.9,\n",
    "                   ax=ax)\n",
    "\n",
    "dribble_df = aggresive_df[aggresive_df['type'] == 'Dribble']\n",
    "sc1 = pitch.scatter(dribble_df['location_x'], dribble_df['location_y'],\n",
    "                   c='#000000',  # color for scatter in hex format,\n",
    "                   s=60, marker='>',\n",
    "                   edgecolors='#383838', alpha=0.9,\n",
    "                   ax=ax)\n",
    "\n",
    "pass_df = aggresive_df[aggresive_df['type'] == 'Pass']\n",
    "sc2 = pitch.scatter(pass_df['location_x'], pass_df['location_y'],\n",
    "                   c='#9C824A',  # color for scatter in hex format\n",
    "                   s=10, marker='.',\n",
    "                   edgecolors='#383838', alpha=0.9,\n",
    "                   ax=ax)\n",
    "\n",
    "shot_df = aggresive_df[aggresive_df['type'] == 'Shot']\n",
    "sc3 = pitch.scatter(shot_df['location_x'], shot_df['location_y'],\n",
    "                   c='#DB0007',  # color for scatter in hex format\n",
    "                   s=shot_df['shot_statsbomb_xg'] * 900,\n",
    "                   marker='X',\n",
    "                   edgecolors='#383838', alpha=0.9,\n",
    "                   ax=ax)\n",
    "\n",
    "plt.show()  # If you are using a Jupyter notebook you do not need this line"
   ]
  },
  {
   "cell_type": "code",
   "execution_count": null,
   "metadata": {},
   "outputs": [],
   "source": [
    "sns.barplot(x=aggresive_df['type'].unique(), y=aggresive_df['type'].value_counts(), palette=['#9C824A', '#063672', '#000000', '#DB0007'])\n",
    "plt.show()"
   ]
  },
  {
   "cell_type": "markdown",
   "metadata": {},
   "source": [
    "---\n",
    "\n",
    "#### Plots"
   ]
  },
  {
   "cell_type": "markdown",
   "metadata": {},
   "source": [
    "###### **> Arsenal Shot Distribution**"
   ]
  },
  {
   "cell_type": "code",
   "execution_count": null,
   "metadata": {},
   "outputs": [],
   "source": [
    "vertical_pitch = VerticalPitch(half=True, pad_top=0.05, pad_right=0.05, pad_bottom=0.05,\n",
    "                               pad_left=0.05, line_zorder=2)\n",
    "fm = FontManager()\n",
    "fm_rubik = FontManager(('https://github.com/google/fonts/blob/main/ofl/rubikmonoone/'\n",
    "                        'RubikMonoOne-Regular.ttf?raw=true'))"
   ]
  },
  {
   "cell_type": "code",
   "execution_count": null,
   "metadata": {},
   "outputs": [],
   "source": [
    "arsenal_shot_df = master_df[master_df['type'] == 'Shot'].copy()\n",
    "arsenal_shot_df[['location_x', 'location_y']] = arsenal_shot_df[['location_x', 'location_y']].astype('float64')\n",
    "arsenal_shot_df['shot_outcome_color'] = np.where(arsenal_shot_df['shot_outcome'] == 'Goal', '#DB0007', '#063672')"
   ]
  },
  {
   "cell_type": "markdown",
   "metadata": {},
   "source": [
    "###### **> Marked Shot Distribution**"
   ]
  },
  {
   "cell_type": "code",
   "execution_count": null,
   "metadata": {},
   "outputs": [],
   "source": [
    "fm_rubik = FontManager(('https://github.com/google/fonts/blob/main/ofl/rubikmonoone/'\n",
    "                        'RubikMonoOne-Regular.ttf?raw=true'))\n",
    "pitch = VerticalPitch(pad_bottom=0.5,  # pitch extends slightly below halfway line\n",
    "                      half=True,  # half of a pitch\n",
    "                      goal_type='box',\n",
    "                      goal_alpha=0.8)  # control the goal transparency"
   ]
  },
  {
   "cell_type": "code",
   "execution_count": null,
   "metadata": {},
   "outputs": [],
   "source": [
    "# filter goals / non-shot goals\n",
    "arsenal_non_goal_df = master_df[(master_df['type'] == 'Shot') & (master_df['shot_outcome'] != 'Goal')].copy()\n",
    "arsenal_non_goal_df[['location_x', 'location_y']] = arsenal_non_goal_df[['location_x', 'location_y']].astype('float64')\n",
    "arsenal_goal_df = master_df[(master_df['type'] == 'Shot') & (master_df['shot_outcome'] == 'Goal')].copy()\n",
    "arsenal_goal_df[['location_x', 'location_y']] = arsenal_goal_df[['location_x', 'location_y']].astype('float64')"
   ]
  },
  {
   "cell_type": "code",
   "execution_count": null,
   "metadata": {},
   "outputs": [],
   "source": [
    "vertical_pitch = VerticalPitch(half=True,\n",
    "                               # here we remove some of the pitch on the left/ right/ bottom\n",
    "                               pad_top=0.05, pad_right=-15, pad_bottom=-20, pad_left=-15,\n",
    "                               goal_type='line')\n",
    "\n",
    "fig, axs = vertical_pitch.jointgrid(figheight=10, left=None, bottom=None,  # center aligned\n",
    "                                    grid_width=0.95, marginal=0.1,\n",
    "                                    # setting up the heights/space so it takes up 95% of the figure\n",
    "                                    grid_height=0.80,\n",
    "                                    title_height=0.1, endnote_height=0.03,\n",
    "                                    title_space=0.01, endnote_space=0.01,\n",
    "                                    axis=False,  # turn off title/ endnote/ marginal axes\n",
    "                                    # here we filter out the left and top marginal axes\n",
    "                                    ax_top=False, ax_bottom=True,\n",
    "                                    ax_left=False, ax_right=True)\n",
    "\n",
    "# typical shot map where the scatter points vary by the expected goals value\n",
    "# using alpha for transparency as there are a lot of shots stacked around the six-yard box\n",
    "sc_team2 = vertical_pitch.scatter(arsenal_shot_df['location_x'],arsenal_shot_df['location_y'], s=arsenal_shot_df['shot_statsbomb_xg'] * 700,\n",
    "                                  c=arsenal_shot_df['shot_outcome_color'], alpha=0.5, ec='black', ax=axs['pitch'])\n",
    "# kdeplots on the marginals\n",
    "# remember to flip the coordinates y=x, x=y for the marginals when using vertical orientation\n",
    "team2_hist_x = sns.histplot(y=arsenal_non_goal_df['location_x'], ax=axs['right'], color='#063672')\n",
    "team2_hist_y = sns.histplot(x=arsenal_non_goal_df['location_y'], ax=axs['bottom'], color='#063672')\n",
    "team2_hist_x = sns.histplot(y=arsenal_goal_df['location_x'], ax=axs['right'], color='#DB0007')\n",
    "team2_hist_y = sns.histplot(x=arsenal_goal_df['location_y'], ax=axs['bottom'], color='#DB0007')\n",
    "\n",
    "# titles and endnote\n",
    "axs['title'].text(0.5, 0.7, \"Arsenal '03/'04 Shot Distribution\", color='black',\n",
    "                  fontproperties=fm_rubik.prop, fontsize=18, ha='center', va='center')\n",
    "axs['title'].text(0.5, 0.3, \"Converted (red) vs. Not Converted (gold)\", color='black',\n",
    "                  fontproperties=fm_rubik.prop, fontsize=12, ha='center', va='center')\n",
    "\n",
    "plt.show()  # If you are using a Jupyter notebook you do not need this line"
   ]
  }
 ],
 "metadata": {
  "interpreter": {
   "hash": "1b51f8d25deed5bc6e36ed276154e4f544ef07f3564bb000bbe55172bfec9e7b"
  },
  "kernelspec": {
   "display_name": "Python 3.8.8 ('base')",
   "language": "python",
   "name": "python3"
  },
  "language_info": {
   "codemirror_mode": {
    "name": "ipython",
    "version": 3
   },
   "file_extension": ".py",
   "mimetype": "text/x-python",
   "name": "python",
   "nbconvert_exporter": "python",
   "pygments_lexer": "ipython3",
   "version": "3.8.8"
  },
  "orig_nbformat": 4
 },
 "nbformat": 4,
 "nbformat_minor": 2
}
